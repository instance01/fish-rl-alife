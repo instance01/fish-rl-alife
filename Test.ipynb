{
 "cells": [
  {
   "cell_type": "code",
   "execution_count": 3,
   "metadata": {
    "collapsed": true
   },
   "outputs": [],
   "source": [
    "import random\n",
    "import math\n",
    "\n",
    "class Animal:\n",
    "    def __init__(self, seed, width, height):\n",
    "        random.seed(seed)\n",
    "        self.radius = 5\n",
    "        self.x = random.randint(self.radius, width-self.radius)\n",
    "        self.y = random.randint(self.radius, height-self.radius)\n",
    "        self.velocity = 0.5\n",
    "        self.angle = random.random() * 360\n",
    "        \n",
    "        self.velocity.x = 0.5*(random.random()+1.0)\n",
    "        self.velocity.y = 0.5*(random.random()+1.0)\n",
    "        \n",
    "    \n",
    "    def rotated(self, degree):\n",
    "        cos = math.cos(math.radians(degree))\n",
    "        sin = math.sin(math.radians(degree))\n",
    "        x = self.x*cos - self.y*sin\n",
    "        y = self.x*sin + self.y*cos\n",
    "        return (x, y)"
   ]
  },
  {
   "cell_type": "code",
   "execution_count": 4,
   "metadata": {},
   "outputs": [
    {
     "ename": "AttributeError",
     "evalue": "'float' object has no attribute 'x'",
     "output_type": "error",
     "traceback": [
      "\u001b[0;31m---------------------------------------------------------------------------\u001b[0m",
      "\u001b[0;31mAttributeError\u001b[0m                            Traceback (most recent call last)",
      "\u001b[0;32m<ipython-input-4-000f48e6a304>\u001b[0m in \u001b[0;36m<module>\u001b[0;34m()\u001b[0m\n\u001b[0;32m----> 1\u001b[0;31m \u001b[0mAnimal\u001b[0m\u001b[0;34m(\u001b[0m\u001b[0;36m5\u001b[0m\u001b[0;34m,\u001b[0m\u001b[0;36m10\u001b[0m\u001b[0;34m,\u001b[0m\u001b[0;36m10\u001b[0m\u001b[0;34m)\u001b[0m\u001b[0;34m\u001b[0m\u001b[0m\n\u001b[0m",
      "\u001b[0;32m<ipython-input-3-13da9758aa9a>\u001b[0m in \u001b[0;36m__init__\u001b[0;34m(self, seed, width, height)\u001b[0m\n\u001b[1;32m     14\u001b[0m         \u001b[0mself\u001b[0m\u001b[0;34m.\u001b[0m\u001b[0mangle\u001b[0m \u001b[0;34m=\u001b[0m \u001b[0mrandom\u001b[0m\u001b[0;34m.\u001b[0m\u001b[0mrandom\u001b[0m\u001b[0;34m(\u001b[0m\u001b[0;34m)\u001b[0m \u001b[0;34m*\u001b[0m \u001b[0;36m360\u001b[0m\u001b[0;34m\u001b[0m\u001b[0m\n\u001b[1;32m     15\u001b[0m \u001b[0;34m\u001b[0m\u001b[0m\n\u001b[0;32m---> 16\u001b[0;31m         \u001b[0mself\u001b[0m\u001b[0;34m.\u001b[0m\u001b[0mvelocity\u001b[0m\u001b[0;34m.\u001b[0m\u001b[0mx\u001b[0m \u001b[0;34m=\u001b[0m \u001b[0;36m0.5\u001b[0m\u001b[0;34m*\u001b[0m\u001b[0;34m(\u001b[0m\u001b[0mrandom\u001b[0m\u001b[0;34m.\u001b[0m\u001b[0mrandom\u001b[0m\u001b[0;34m(\u001b[0m\u001b[0;34m)\u001b[0m\u001b[0;34m+\u001b[0m\u001b[0;36m1.0\u001b[0m\u001b[0;34m)\u001b[0m\u001b[0;34m\u001b[0m\u001b[0m\n\u001b[0m\u001b[1;32m     17\u001b[0m         \u001b[0mself\u001b[0m\u001b[0;34m.\u001b[0m\u001b[0mvelocity\u001b[0m\u001b[0;34m.\u001b[0m\u001b[0my\u001b[0m \u001b[0;34m=\u001b[0m \u001b[0;36m0.5\u001b[0m\u001b[0;34m*\u001b[0m\u001b[0;34m(\u001b[0m\u001b[0mrandom\u001b[0m\u001b[0;34m.\u001b[0m\u001b[0mrandom\u001b[0m\u001b[0;34m(\u001b[0m\u001b[0;34m)\u001b[0m\u001b[0;34m+\u001b[0m\u001b[0;36m1.0\u001b[0m\u001b[0;34m)\u001b[0m\u001b[0;34m\u001b[0m\u001b[0m\n\u001b[1;32m     18\u001b[0m \u001b[0;34m\u001b[0m\u001b[0m\n",
      "\u001b[0;31mAttributeError\u001b[0m: 'float' object has no attribute 'x'"
     ]
    }
   ],
   "source": [
    "Animal(5,10,10)"
   ]
  },
  {
   "cell_type": "code",
   "execution_count": 1,
   "metadata": {
    "collapsed": true
   },
   "outputs": [],
   "source": [
    "a = [0,1,2,3]"
   ]
  },
  {
   "cell_type": "code",
   "execution_count": 2,
   "metadata": {
    "collapsed": true
   },
   "outputs": [],
   "source": [
    "b = [4,5,6]"
   ]
  },
  {
   "cell_type": "code",
   "execution_count": 3,
   "metadata": {},
   "outputs": [
    {
     "data": {
      "text/plain": [
       "[0, 1, 2, 3, 4, 5, 6]"
      ]
     },
     "execution_count": 3,
     "metadata": {},
     "output_type": "execute_result"
    }
   ],
   "source": [
    "a + b"
   ]
  },
  {
   "cell_type": "code",
   "execution_count": null,
   "metadata": {
    "collapsed": true
   },
   "outputs": [],
   "source": []
  },
  {
   "cell_type": "code",
   "execution_count": null,
   "metadata": {
    "collapsed": true
   },
   "outputs": [],
   "source": []
  },
  {
   "cell_type": "code",
   "execution_count": null,
   "metadata": {
    "collapsed": true
   },
   "outputs": [],
   "source": []
  },
  {
   "cell_type": "code",
   "execution_count": 19,
   "metadata": {
    "collapsed": true
   },
   "outputs": [],
   "source": [
    "    def rotated(vector, degree):\n",
    "        cos = math.cos(math.radians(degree))\n",
    "        sin = math.sin(math.radians(degree))\n",
    "        x = vector[0] * cos - vector[1] * sin\n",
    "        y = vector[0] * sin + vector[1] * cos\n",
    "        return (x, y)\n",
    "        "
   ]
  },
  {
   "cell_type": "code",
   "execution_count": 22,
   "metadata": {},
   "outputs": [
    {
     "data": {
      "text/plain": [
       "(6.123233995736766e-17, 1.0)"
      ]
     },
     "execution_count": 22,
     "metadata": {},
     "output_type": "execute_result"
    }
   ],
   "source": [
    "rotated((1, 0), 90)"
   ]
  },
  {
   "cell_type": "code",
   "execution_count": 23,
   "metadata": {},
   "outputs": [
    {
     "data": {
      "text/plain": [
       "[0]"
      ]
     },
     "execution_count": 23,
     "metadata": {},
     "output_type": "execute_result"
    }
   ],
   "source": [
    "range(1)"
   ]
  },
  {
   "cell_type": "code",
   "execution_count": 1,
   "metadata": {
    "collapsed": true
   },
   "outputs": [],
   "source": [
    "import numpy as np"
   ]
  },
  {
   "cell_type": "code",
   "execution_count": 3,
   "metadata": {
    "collapsed": true
   },
   "outputs": [],
   "source": [
    "a = np.array([-1, 30])"
   ]
  },
  {
   "cell_type": "code",
   "execution_count": 5,
   "metadata": {},
   "outputs": [
    {
     "data": {
      "text/plain": [
       "array([-11,  10])"
      ]
     },
     "execution_count": 5,
     "metadata": {},
     "output_type": "execute_result"
    }
   ],
   "source": [
    "a - [10,20]"
   ]
  },
  {
   "cell_type": "code",
   "execution_count": 6,
   "metadata": {},
   "outputs": [
    {
     "data": {
      "text/plain": [
       "array([-1, 30])"
      ]
     },
     "execution_count": 6,
     "metadata": {},
     "output_type": "execute_result"
    }
   ],
   "source": [
    "a"
   ]
  },
  {
   "cell_type": "code",
   "execution_count": 7,
   "metadata": {},
   "outputs": [
    {
     "data": {
      "text/plain": [
       "array([-135.,  -45.,   45.,  135.])"
      ]
     },
     "execution_count": 7,
     "metadata": {},
     "output_type": "execute_result"
    }
   ],
   "source": [
    "x = np.array([-1, +1, +1, -1])\n",
    "y = np.array([-1, -1, +1, +1])\n",
    "np.arctan2(y, x) * 180 / np.pi"
   ]
  },
  {
   "cell_type": "code",
   "execution_count": 101,
   "metadata": {
    "collapsed": true
   },
   "outputs": [],
   "source": [
    "vector1 = [1, 0]\n",
    "vector2 = [1, -.1]"
   ]
  },
  {
   "cell_type": "code",
   "execution_count": 111,
   "metadata": {},
   "outputs": [
    {
     "name": "stdout",
     "output_type": "stream",
     "text": [
      "1.0 -0.1 -0.0996686524912 -5.7105931375\n"
     ]
    }
   ],
   "source": [
    "import math\n",
    "#vector1 = vector1/np.linalg.norm(vector1)\n",
    "#vector2 = vector2/np.linalg.norm(vector2)\n",
    "\n",
    "# https://newtonexcelbach.com/2014/03/01/the-angle-between-two-vectors-python-version/\n",
    "cos = vector1[0] * vector2[0] + vector1[1] * vector2[1]\n",
    "sin = vector1[0] * vector2[1] - vector1[1] * vector2[0]\n",
    "\n",
    "cos = np.dot(vector1, vector2)\n",
    "sin = np.cross(vector1, vector2)\n",
    "\n",
    "atan2 = np.arctan2(sin, cos)\n",
    "print cos, sin, atan2, math.degrees(atan2)"
   ]
  },
  {
   "cell_type": "code",
   "execution_count": 1,
   "metadata": {
    "collapsed": true
   },
   "outputs": [],
   "source": [
    "a = [0,1,2,3,4]"
   ]
  },
  {
   "cell_type": "code",
   "execution_count": 2,
   "metadata": {},
   "outputs": [
    {
     "data": {
      "text/plain": [
       "[1, 2, 3, 4]"
      ]
     },
     "execution_count": 2,
     "metadata": {},
     "output_type": "execute_result"
    }
   ],
   "source": [
    "a[1:]"
   ]
  },
  {
   "cell_type": "code",
   "execution_count": 2,
   "metadata": {
    "collapsed": true
   },
   "outputs": [],
   "source": [
    "import numpy as np"
   ]
  },
  {
   "cell_type": "code",
   "execution_count": 4,
   "metadata": {},
   "outputs": [
    {
     "data": {
      "text/plain": [
       "(2,)"
      ]
     },
     "execution_count": 4,
     "metadata": {},
     "output_type": "execute_result"
    }
   ],
   "source": [
    "np.array([100, 100]).shape"
   ]
  },
  {
   "cell_type": "code",
   "execution_count": 5,
   "metadata": {},
   "outputs": [
    {
     "data": {
      "text/plain": [
       "100.0"
      ]
     },
     "execution_count": 5,
     "metadata": {},
     "output_type": "execute_result"
    }
   ],
   "source": [
    "1e2"
   ]
  },
  {
   "cell_type": "code",
   "execution_count": 35,
   "metadata": {},
   "outputs": [
    {
     "data": {
      "text/plain": [
       "[-30, 0, 30]"
      ]
     },
     "execution_count": 35,
     "metadata": {},
     "output_type": "execute_result"
    }
   ],
   "source": [
    "r = range(-30, 50, 30)\n",
    "r"
   ]
  },
  {
   "cell_type": "code",
   "execution_count": 14,
   "metadata": {},
   "outputs": [
    {
     "data": {
      "text/plain": [
       "5"
      ]
     },
     "execution_count": 14,
     "metadata": {},
     "output_type": "execute_result"
    }
   ],
   "source": [
    "len(r)"
   ]
  },
  {
   "cell_type": "code",
   "execution_count": 2,
   "metadata": {},
   "outputs": [
    {
     "data": {
      "text/plain": [
       "[[0, 34], [0, 34], [0, 34]]"
      ]
     },
     "execution_count": 2,
     "metadata": {},
     "output_type": "execute_result"
    }
   ],
   "source": [
    "[[0,34]] * 3"
   ]
  },
  {
   "cell_type": "code",
   "execution_count": 40,
   "metadata": {
    "collapsed": true
   },
   "outputs": [],
   "source": [
    "import numpy as np\n",
    "a = np.base_repr(, base=3).zfill(3)"
   ]
  },
  {
   "cell_type": "code",
   "execution_count": 41,
   "metadata": {},
   "outputs": [
    {
     "data": {
      "text/plain": [
       "'001'"
      ]
     },
     "execution_count": 41,
     "metadata": {},
     "output_type": "execute_result"
    }
   ],
   "source": [
    "a"
   ]
  },
  {
   "cell_type": "code",
   "execution_count": 42,
   "metadata": {},
   "outputs": [
    {
     "data": {
      "text/plain": [
       "'0'"
      ]
     },
     "execution_count": 42,
     "metadata": {},
     "output_type": "execute_result"
    }
   ],
   "source": [
    "a[0]"
   ]
  },
  {
   "cell_type": "code",
   "execution_count": 43,
   "metadata": {},
   "outputs": [
    {
     "name": "stdout",
     "output_type": "stream",
     "text": [
      "0\n",
      "0\n",
      "1\n"
     ]
    }
   ],
   "source": [
    "for d in a:\n",
    "    print d"
   ]
  },
  {
   "cell_type": "code",
   "execution_count": 45,
   "metadata": {},
   "outputs": [
    {
     "data": {
      "text/plain": [
       "0.1"
      ]
     },
     "execution_count": 45,
     "metadata": {},
     "output_type": "execute_result"
    }
   ],
   "source": [
    "1e-1"
   ]
  },
  {
   "cell_type": "code",
   "execution_count": null,
   "metadata": {
    "collapsed": true
   },
   "outputs": [],
   "source": []
  },
  {
   "cell_type": "code",
   "execution_count": 75,
   "metadata": {
    "collapsed": true
   },
   "outputs": [],
   "source": [
    "import itertools\n",
    "import random\n",
    "\n",
    "steps = [10000, 50000]\n",
    "hiddenL = [1, 3]\n",
    "hiddenN = [16, 32]\n",
    "gamma = [.95, .99]\n",
    "lr = [1e-1,1e-3]\n",
    "memory = [10000, 50000]\n",
    "batch_size = [32, 1024]\n",
    "warmup = [10, 1000]\n",
    "\n",
    "\n",
    "l = list(itertools.product(steps, hiddenL, hiddenN, gamma, lr, memory, batch_size, warmup))"
   ]
  },
  {
   "cell_type": "code",
   "execution_count": 76,
   "metadata": {
    "collapsed": true
   },
   "outputs": [],
   "source": [
    "random.shuffle(l)"
   ]
  },
  {
   "cell_type": "code",
   "execution_count": 77,
   "metadata": {},
   "outputs": [
    {
     "data": {
      "text/plain": [
       "[(10000, 3, 32, 0.95, 0.1, 10000, 1024, 10),\n",
       " (50000, 1, 32, 0.99, 0.1, 10000, 32, 100),\n",
       " (50000, 3, 32, 0.95, 0.001, 10000, 1024, 100),\n",
       " (50000, 1, 16, 0.95, 0.1, 10000, 1024, 100),\n",
       " (10000, 3, 32, 0.95, 0.001, 50000, 1024, 10),\n",
       " (50000, 1, 16, 0.95, 0.1, 10000, 1024, 10),\n",
       " (50000, 1, 32, 0.95, 0.001, 50000, 1024, 10),\n",
       " (50000, 1, 32, 0.99, 0.1, 50000, 32, 10),\n",
       " (50000, 3, 16, 0.99, 0.001, 50000, 32, 100),\n",
       " (10000, 3, 32, 0.99, 0.1, 10000, 32, 100),\n",
       " (50000, 3, 16, 0.95, 0.001, 10000, 1024, 10),\n",
       " (50000, 3, 16, 0.99, 0.1, 10000, 32, 10),\n",
       " (10000, 3, 32, 0.99, 0.001, 50000, 1024, 100),\n",
       " (10000, 1, 16, 0.95, 0.1, 10000, 32, 10),\n",
       " (10000, 3, 32, 0.99, 0.1, 10000, 32, 10),\n",
       " (50000, 3, 16, 0.95, 0.1, 50000, 1024, 10),\n",
       " (10000, 1, 16, 0.95, 0.001, 10000, 32, 10),\n",
       " (10000, 3, 16, 0.95, 0.1, 50000, 32, 10),\n",
       " (10000, 1, 32, 0.95, 0.001, 50000, 32, 10),\n",
       " (50000, 3, 32, 0.99, 0.1, 50000, 1024, 10),\n",
       " (50000, 1, 32, 0.99, 0.1, 50000, 1024, 10),\n",
       " (50000, 1, 16, 0.99, 0.1, 50000, 32, 10),\n",
       " (10000, 3, 32, 0.99, 0.001, 10000, 32, 100),\n",
       " (50000, 1, 32, 0.95, 0.1, 50000, 32, 100),\n",
       " (10000, 1, 16, 0.99, 0.1, 50000, 1024, 10),\n",
       " (50000, 1, 32, 0.95, 0.001, 10000, 32, 100),\n",
       " (50000, 1, 32, 0.95, 0.001, 10000, 1024, 100),\n",
       " (50000, 3, 16, 0.95, 0.1, 50000, 32, 10),\n",
       " (10000, 1, 32, 0.95, 0.1, 10000, 1024, 10),\n",
       " (10000, 3, 32, 0.99, 0.001, 10000, 32, 10),\n",
       " (10000, 1, 32, 0.99, 0.001, 50000, 32, 10),\n",
       " (50000, 3, 32, 0.95, 0.001, 50000, 1024, 100),\n",
       " (10000, 1, 32, 0.95, 0.1, 10000, 32, 100),\n",
       " (10000, 1, 32, 0.95, 0.1, 50000, 32, 100),\n",
       " (10000, 1, 32, 0.99, 0.1, 50000, 1024, 10),\n",
       " (10000, 1, 32, 0.95, 0.001, 50000, 1024, 10),\n",
       " (10000, 1, 16, 0.95, 0.1, 50000, 32, 10),\n",
       " (50000, 3, 16, 0.99, 0.1, 50000, 32, 100),\n",
       " (10000, 3, 16, 0.95, 0.1, 10000, 1024, 100),\n",
       " (50000, 3, 16, 0.99, 0.001, 50000, 32, 10),\n",
       " (50000, 3, 16, 0.99, 0.001, 10000, 1024, 10),\n",
       " (10000, 1, 32, 0.95, 0.1, 50000, 1024, 10),\n",
       " (50000, 1, 16, 0.99, 0.001, 10000, 32, 10),\n",
       " (10000, 1, 32, 0.95, 0.001, 50000, 32, 100),\n",
       " (10000, 3, 16, 0.95, 0.001, 50000, 1024, 10),\n",
       " (50000, 3, 16, 0.99, 0.001, 50000, 1024, 10),\n",
       " (50000, 1, 16, 0.95, 0.001, 10000, 32, 10),\n",
       " (10000, 3, 16, 0.99, 0.001, 10000, 1024, 100),\n",
       " (10000, 3, 16, 0.99, 0.001, 10000, 32, 100),\n",
       " (50000, 3, 16, 0.95, 0.1, 10000, 32, 100),\n",
       " (50000, 3, 16, 0.99, 0.1, 10000, 1024, 100),\n",
       " (50000, 1, 16, 0.95, 0.1, 10000, 32, 100),\n",
       " (50000, 1, 32, 0.95, 0.001, 10000, 1024, 10),\n",
       " (50000, 3, 16, 0.95, 0.001, 10000, 32, 10),\n",
       " (10000, 3, 16, 0.95, 0.001, 10000, 1024, 10),\n",
       " (50000, 1, 16, 0.99, 0.1, 10000, 32, 100),\n",
       " (50000, 3, 16, 0.95, 0.1, 10000, 32, 10),\n",
       " (10000, 3, 32, 0.95, 0.001, 10000, 1024, 100),\n",
       " (50000, 1, 16, 0.99, 0.001, 50000, 1024, 10),\n",
       " (10000, 3, 32, 0.95, 0.001, 50000, 32, 10),\n",
       " (10000, 1, 16, 0.95, 0.1, 10000, 32, 100),\n",
       " (50000, 1, 32, 0.99, 0.001, 50000, 1024, 10),\n",
       " (50000, 3, 16, 0.99, 0.1, 10000, 1024, 10),\n",
       " (50000, 1, 16, 0.95, 0.001, 10000, 1024, 100),\n",
       " (50000, 1, 32, 0.99, 0.001, 50000, 1024, 100),\n",
       " (50000, 1, 32, 0.95, 0.001, 50000, 1024, 100),\n",
       " (10000, 1, 16, 0.95, 0.001, 50000, 32, 100),\n",
       " (50000, 1, 16, 0.99, 0.1, 50000, 1024, 10),\n",
       " (10000, 1, 16, 0.99, 0.001, 10000, 32, 10),\n",
       " (10000, 3, 32, 0.99, 0.1, 10000, 1024, 10),\n",
       " (50000, 1, 32, 0.99, 0.1, 10000, 1024, 100),\n",
       " (10000, 1, 16, 0.95, 0.001, 50000, 32, 10),\n",
       " (50000, 3, 32, 0.99, 0.001, 10000, 1024, 10),\n",
       " (50000, 3, 32, 0.95, 0.1, 50000, 32, 100),\n",
       " (50000, 3, 32, 0.95, 0.1, 10000, 32, 100),\n",
       " (10000, 3, 16, 0.95, 0.001, 10000, 32, 10),\n",
       " (50000, 3, 32, 0.99, 0.001, 50000, 1024, 100),\n",
       " (10000, 1, 32, 0.99, 0.1, 50000, 32, 10),\n",
       " (50000, 3, 16, 0.95, 0.001, 50000, 1024, 10),\n",
       " (10000, 3, 32, 0.95, 0.001, 10000, 1024, 10),\n",
       " (10000, 3, 16, 0.95, 0.001, 50000, 32, 100),\n",
       " (50000, 3, 32, 0.95, 0.001, 50000, 32, 100),\n",
       " (50000, 3, 32, 0.99, 0.1, 10000, 32, 10),\n",
       " (10000, 1, 32, 0.95, 0.1, 10000, 32, 10),\n",
       " (50000, 3, 32, 0.99, 0.1, 10000, 32, 100),\n",
       " (10000, 1, 32, 0.95, 0.001, 10000, 1024, 10),\n",
       " (50000, 3, 32, 0.95, 0.1, 50000, 1024, 100),\n",
       " (50000, 3, 32, 0.95, 0.001, 10000, 32, 10),\n",
       " (50000, 3, 32, 0.99, 0.001, 10000, 32, 100),\n",
       " (50000, 3, 32, 0.99, 0.1, 50000, 32, 100),\n",
       " (50000, 3, 16, 0.95, 0.1, 50000, 32, 100),\n",
       " (10000, 1, 16, 0.95, 0.001, 50000, 1024, 100),\n",
       " (50000, 1, 32, 0.95, 0.1, 10000, 32, 100),\n",
       " (50000, 1, 16, 0.99, 0.1, 10000, 32, 10),\n",
       " (10000, 1, 16, 0.95, 0.001, 10000, 32, 100),\n",
       " (50000, 3, 16, 0.95, 0.001, 50000, 32, 100),\n",
       " (50000, 3, 16, 0.99, 0.1, 50000, 32, 10),\n",
       " (10000, 1, 32, 0.99, 0.1, 10000, 32, 100),\n",
       " (50000, 1, 16, 0.95, 0.1, 50000, 32, 10),\n",
       " (50000, 3, 32, 0.95, 0.1, 10000, 32, 10),\n",
       " (10000, 3, 16, 0.95, 0.1, 10000, 32, 10),\n",
       " (50000, 1, 16, 0.95, 0.001, 10000, 1024, 10),\n",
       " (50000, 1, 16, 0.95, 0.001, 10000, 32, 100),\n",
       " (10000, 3, 16, 0.99, 0.001, 10000, 1024, 10),\n",
       " (50000, 1, 32, 0.95, 0.001, 10000, 32, 10),\n",
       " (10000, 3, 16, 0.95, 0.001, 50000, 1024, 100),\n",
       " (50000, 3, 16, 0.95, 0.1, 10000, 1024, 10),\n",
       " (10000, 1, 16, 0.99, 0.001, 10000, 1024, 10),\n",
       " (10000, 1, 32, 0.99, 0.001, 10000, 32, 10),\n",
       " (50000, 1, 32, 0.99, 0.001, 50000, 32, 100),\n",
       " (50000, 1, 32, 0.99, 0.001, 50000, 32, 10),\n",
       " (50000, 1, 32, 0.95, 0.1, 50000, 1024, 10),\n",
       " (10000, 1, 16, 0.99, 0.1, 10000, 32, 10),\n",
       " (10000, 1, 16, 0.99, 0.1, 50000, 32, 10),\n",
       " (10000, 3, 32, 0.99, 0.001, 50000, 32, 10),\n",
       " (10000, 1, 16, 0.99, 0.1, 50000, 32, 100),\n",
       " (10000, 1, 32, 0.99, 0.001, 50000, 1024, 10),\n",
       " (50000, 1, 16, 0.95, 0.1, 50000, 32, 100),\n",
       " (10000, 3, 32, 0.99, 0.001, 50000, 1024, 10),\n",
       " (50000, 3, 32, 0.99, 0.001, 50000, 1024, 10),\n",
       " (10000, 1, 32, 0.95, 0.001, 10000, 32, 10),\n",
       " (10000, 3, 16, 0.95, 0.1, 50000, 32, 100),\n",
       " (10000, 1, 16, 0.99, 0.1, 10000, 32, 100),\n",
       " (10000, 3, 32, 0.99, 0.1, 10000, 1024, 100),\n",
       " (50000, 3, 16, 0.99, 0.001, 50000, 1024, 100),\n",
       " (10000, 3, 16, 0.99, 0.001, 10000, 32, 10),\n",
       " (10000, 3, 32, 0.99, 0.001, 10000, 1024, 100),\n",
       " (50000, 1, 16, 0.99, 0.001, 10000, 1024, 100),\n",
       " (10000, 1, 32, 0.95, 0.1, 50000, 1024, 100),\n",
       " (50000, 1, 16, 0.95, 0.001, 50000, 1024, 10),\n",
       " (10000, 3, 16, 0.99, 0.1, 50000, 32, 100),\n",
       " (10000, 1, 16, 0.99, 0.001, 50000, 32, 10),\n",
       " (50000, 3, 32, 0.99, 0.1, 50000, 1024, 100),\n",
       " (50000, 1, 32, 0.99, 0.1, 50000, 32, 100),\n",
       " (10000, 3, 32, 0.95, 0.1, 10000, 32, 10),\n",
       " (50000, 3, 16, 0.95, 0.001, 50000, 1024, 100),\n",
       " (10000, 1, 32, 0.99, 0.1, 50000, 32, 100),\n",
       " (10000, 1, 32, 0.95, 0.1, 10000, 1024, 100),\n",
       " (10000, 1, 16, 0.99, 0.001, 10000, 1024, 100),\n",
       " (50000, 3, 16, 0.95, 0.001, 10000, 32, 100),\n",
       " (10000, 1, 16, 0.95, 0.1, 10000, 1024, 100),\n",
       " (10000, 3, 32, 0.95, 0.1, 50000, 32, 10),\n",
       " (10000, 1, 32, 0.95, 0.001, 10000, 1024, 100),\n",
       " (50000, 3, 32, 0.95, 0.001, 10000, 32, 100),\n",
       " (10000, 1, 32, 0.95, 0.001, 10000, 32, 100),\n",
       " (50000, 1, 32, 0.95, 0.1, 10000, 32, 10),\n",
       " (50000, 1, 32, 0.99, 0.001, 10000, 1024, 10),\n",
       " (50000, 1, 32, 0.99, 0.1, 10000, 1024, 10),\n",
       " (10000, 1, 32, 0.99, 0.001, 50000, 32, 100),\n",
       " (50000, 1, 32, 0.99, 0.1, 10000, 32, 10),\n",
       " (50000, 1, 16, 0.99, 0.1, 50000, 32, 100),\n",
       " (10000, 3, 32, 0.99, 0.1, 50000, 1024, 10),\n",
       " (10000, 1, 16, 0.95, 0.1, 50000, 1024, 100),\n",
       " (10000, 3, 32, 0.95, 0.1, 10000, 1024, 100),\n",
       " (10000, 3, 32, 0.95, 0.1, 50000, 1024, 100),\n",
       " (10000, 1, 16, 0.99, 0.1, 50000, 1024, 100),\n",
       " (50000, 1, 32, 0.99, 0.1, 50000, 1024, 100),\n",
       " (10000, 3, 16, 0.99, 0.1, 50000, 1024, 10),\n",
       " (10000, 3, 16, 0.95, 0.1, 10000, 32, 100),\n",
       " (50000, 3, 16, 0.99, 0.1, 50000, 1024, 10),\n",
       " (50000, 3, 16, 0.99, 0.1, 50000, 1024, 100),\n",
       " (50000, 1, 16, 0.99, 0.001, 50000, 32, 100),\n",
       " (10000, 1, 16, 0.99, 0.001, 50000, 1024, 10),\n",
       " (50000, 1, 32, 0.95, 0.1, 50000, 1024, 100),\n",
       " (50000, 3, 32, 0.99, 0.1, 10000, 1024, 100),\n",
       " (10000, 3, 16, 0.95, 0.001, 10000, 32, 100),\n",
       " (10000, 3, 16, 0.99, 0.1, 10000, 1024, 10),\n",
       " (50000, 3, 32, 0.95, 0.1, 10000, 1024, 100),\n",
       " (10000, 3, 16, 0.99, 0.1, 10000, 32, 10),\n",
       " (50000, 3, 32, 0.95, 0.001, 10000, 1024, 10),\n",
       " (50000, 3, 32, 0.99, 0.001, 10000, 1024, 100),\n",
       " (50000, 1, 32, 0.99, 0.001, 10000, 1024, 100),\n",
       " (50000, 1, 32, 0.99, 0.001, 10000, 32, 10),\n",
       " (10000, 3, 32, 0.95, 0.001, 10000, 32, 10),\n",
       " (10000, 1, 16, 0.99, 0.1, 10000, 1024, 100),\n",
       " (10000, 3, 32, 0.99, 0.1, 50000, 32, 100),\n",
       " (10000, 3, 16, 0.99, 0.001, 50000, 32, 100),\n",
       " (50000, 3, 32, 0.99, 0.1, 10000, 1024, 10),\n",
       " (10000, 3, 16, 0.99, 0.001, 50000, 1024, 100),\n",
       " (10000, 3, 16, 0.95, 0.1, 50000, 1024, 100),\n",
       " (50000, 3, 32, 0.99, 0.001, 50000, 32, 10),\n",
       " (10000, 3, 16, 0.95, 0.1, 50000, 1024, 10),\n",
       " (50000, 3, 32, 0.95, 0.1, 10000, 1024, 10),\n",
       " (50000, 3, 32, 0.99, 0.001, 50000, 32, 100),\n",
       " (10000, 3, 32, 0.95, 0.1, 50000, 1024, 10),\n",
       " (50000, 3, 32, 0.99, 0.001, 10000, 32, 10),\n",
       " (10000, 1, 32, 0.99, 0.001, 10000, 1024, 100),\n",
       " (50000, 1, 32, 0.99, 0.001, 10000, 32, 100),\n",
       " (10000, 1, 32, 0.99, 0.001, 10000, 32, 100),\n",
       " (50000, 3, 32, 0.95, 0.001, 50000, 1024, 10),\n",
       " (50000, 1, 16, 0.99, 0.001, 10000, 32, 100),\n",
       " (10000, 3, 16, 0.99, 0.001, 50000, 1024, 10),\n",
       " (10000, 3, 16, 0.99, 0.1, 10000, 32, 100),\n",
       " (50000, 1, 32, 0.95, 0.001, 50000, 32, 10),\n",
       " (10000, 1, 32, 0.99, 0.001, 10000, 1024, 10),\n",
       " (10000, 3, 16, 0.99, 0.1, 50000, 1024, 100),\n",
       " (50000, 3, 16, 0.95, 0.001, 50000, 32, 10),\n",
       " (50000, 3, 16, 0.95, 0.1, 10000, 1024, 100),\n",
       " (50000, 3, 32, 0.95, 0.1, 50000, 1024, 10),\n",
       " (10000, 1, 32, 0.95, 0.1, 50000, 32, 10),\n",
       " (10000, 1, 32, 0.95, 0.001, 50000, 1024, 100),\n",
       " (50000, 1, 16, 0.99, 0.001, 50000, 1024, 100),\n",
       " (10000, 3, 32, 0.95, 0.1, 50000, 32, 100),\n",
       " (50000, 3, 16, 0.99, 0.1, 10000, 32, 100),\n",
       " (10000, 1, 16, 0.99, 0.001, 10000, 32, 100),\n",
       " (50000, 1, 16, 0.95, 0.1, 10000, 32, 10),\n",
       " (10000, 1, 16, 0.95, 0.1, 10000, 1024, 10),\n",
       " (10000, 1, 16, 0.95, 0.1, 50000, 32, 100),\n",
       " (50000, 3, 32, 0.95, 0.001, 50000, 32, 10),\n",
       " (10000, 3, 16, 0.99, 0.001, 50000, 32, 10),\n",
       " (50000, 1, 16, 0.95, 0.001, 50000, 32, 100),\n",
       " (10000, 1, 32, 0.99, 0.1, 10000, 1024, 100),\n",
       " (10000, 3, 32, 0.95, 0.1, 10000, 32, 100),\n",
       " (10000, 3, 16, 0.99, 0.1, 50000, 32, 10),\n",
       " (50000, 1, 32, 0.95, 0.1, 10000, 1024, 10),\n",
       " (10000, 3, 16, 0.95, 0.001, 50000, 32, 10),\n",
       " (10000, 1, 32, 0.99, 0.1, 50000, 1024, 100),\n",
       " (10000, 3, 32, 0.99, 0.1, 50000, 1024, 100),\n",
       " (50000, 1, 16, 0.95, 0.001, 50000, 32, 10),\n",
       " (50000, 1, 16, 0.95, 0.1, 50000, 1024, 100),\n",
       " (10000, 3, 32, 0.99, 0.001, 10000, 1024, 10),\n",
       " (50000, 1, 16, 0.99, 0.001, 50000, 32, 10),\n",
       " (10000, 3, 32, 0.99, 0.1, 50000, 32, 10),\n",
       " (10000, 1, 32, 0.99, 0.001, 50000, 1024, 100),\n",
       " (50000, 1, 16, 0.99, 0.1, 10000, 1024, 100),\n",
       " (50000, 3, 16, 0.95, 0.1, 50000, 1024, 100),\n",
       " (10000, 1, 16, 0.99, 0.001, 50000, 32, 100),\n",
       " (10000, 3, 16, 0.95, 0.1, 10000, 1024, 10),\n",
       " (50000, 1, 32, 0.95, 0.1, 10000, 1024, 100),\n",
       " (50000, 3, 16, 0.95, 0.001, 10000, 1024, 100),\n",
       " (10000, 1, 16, 0.95, 0.001, 10000, 1024, 100),\n",
       " (50000, 3, 32, 0.95, 0.1, 50000, 32, 10),\n",
       " (50000, 1, 32, 0.95, 0.1, 50000, 32, 10),\n",
       " (50000, 1, 16, 0.95, 0.001, 50000, 1024, 100),\n",
       " (50000, 3, 32, 0.99, 0.1, 50000, 32, 10),\n",
       " (10000, 3, 32, 0.99, 0.001, 50000, 32, 100),\n",
       " (10000, 1, 16, 0.95, 0.001, 10000, 1024, 10),\n",
       " (10000, 3, 32, 0.95, 0.001, 50000, 32, 100),\n",
       " (50000, 1, 16, 0.99, 0.1, 50000, 1024, 100),\n",
       " (10000, 3, 32, 0.95, 0.001, 10000, 32, 100),\n",
       " (10000, 1, 32, 0.99, 0.1, 10000, 32, 10),\n",
       " (10000, 1, 16, 0.99, 0.001, 50000, 1024, 100),\n",
       " (50000, 3, 16, 0.99, 0.001, 10000, 1024, 100),\n",
       " (50000, 1, 16, 0.99, 0.1, 10000, 1024, 10),\n",
       " (10000, 1, 32, 0.99, 0.1, 10000, 1024, 10),\n",
       " (10000, 3, 16, 0.99, 0.1, 10000, 1024, 100),\n",
       " (50000, 1, 16, 0.99, 0.001, 10000, 1024, 10),\n",
       " (10000, 1, 16, 0.99, 0.1, 10000, 1024, 10),\n",
       " (10000, 3, 16, 0.95, 0.001, 10000, 1024, 100),\n",
       " (10000, 1, 16, 0.95, 0.1, 50000, 1024, 10),\n",
       " (50000, 1, 32, 0.95, 0.001, 50000, 32, 100),\n",
       " (10000, 1, 16, 0.95, 0.001, 50000, 1024, 10),\n",
       " (50000, 1, 16, 0.95, 0.1, 50000, 1024, 10),\n",
       " (50000, 3, 16, 0.99, 0.001, 10000, 32, 100),\n",
       " (50000, 3, 16, 0.99, 0.001, 10000, 32, 10),\n",
       " (10000, 3, 32, 0.95, 0.001, 50000, 1024, 100)]"
      ]
     },
     "execution_count": 77,
     "metadata": {},
     "output_type": "execute_result"
    }
   ],
   "source": [
    "l"
   ]
  },
  {
   "cell_type": "code",
   "execution_count": 78,
   "metadata": {},
   "outputs": [
    {
     "data": {
      "text/plain": [
       "256"
      ]
     },
     "execution_count": 78,
     "metadata": {},
     "output_type": "execute_result"
    }
   ],
   "source": [
    "len(l)"
   ]
  },
  {
   "cell_type": "code",
   "execution_count": null,
   "metadata": {
    "collapsed": true
   },
   "outputs": [],
   "source": [
    "(steps, hiddenL, hiddenN, gamma, lr, mem, batch_size, warmup, stepSum)"
   ]
  },
  {
   "cell_type": "code",
   "execution_count": null,
   "metadata": {
    "collapsed": true
   },
   "outputs": [],
   "source": []
  },
  {
   "cell_type": "code",
   "execution_count": 84,
   "metadata": {},
   "outputs": [
    {
     "data": {
      "text/plain": [
       "'50000_3_32_0.95_0.001_50000_32_100_999'"
      ]
     },
     "execution_count": 84,
     "metadata": {},
     "output_type": "execute_result"
    }
   ],
   "source": [
    "\"_\".join(map(str, (steps, hiddenL, hiddenN, gamma, lr, mem, batch_size, warmup, stepSum)))"
   ]
  },
  {
   "cell_type": "code",
   "execution_count": 1,
   "metadata": {
    "collapsed": true
   },
   "outputs": [],
   "source": [
    "import numpy as np"
   ]
  },
  {
   "cell_type": "code",
   "execution_count": 8,
   "metadata": {
    "collapsed": true
   },
   "outputs": [],
   "source": [
    "positions = np.random.rand(10,2)"
   ]
  },
  {
   "cell_type": "code",
   "execution_count": 9,
   "metadata": {
    "collapsed": true
   },
   "outputs": [],
   "source": [
    "argmin = np.argmin(np.linalg.norm(positions[1:] - positions[0], axis=1))"
   ]
  },
  {
   "cell_type": "code",
   "execution_count": 25,
   "metadata": {
    "collapsed": true
   },
   "outputs": [],
   "source": [
    "argmin\n",
    "w= 4\n",
    "h =4"
   ]
  },
  {
   "cell_type": "code",
   "execution_count": 12,
   "metadata": {},
   "outputs": [
    {
     "data": {
      "text/plain": [
       "array([[ 0.8055768 ,  0.46472069],\n",
       "       [ 0.27903842,  0.69805125],\n",
       "       [ 0.88338899,  0.94754322],\n",
       "       [ 0.27507167,  0.20462672],\n",
       "       [ 0.29947214,  0.78745516],\n",
       "       [ 0.97542876,  0.18516988],\n",
       "       [ 0.38386213,  0.73203019],\n",
       "       [ 0.82545367,  0.27833158],\n",
       "       [ 0.66463856,  0.88300794],\n",
       "       [ 0.37191593,  0.01911188]])"
      ]
     },
     "execution_count": 12,
     "metadata": {},
     "output_type": "execute_result"
    }
   ],
   "source": [
    "positions"
   ]
  },
  {
   "cell_type": "code",
   "execution_count": 13,
   "metadata": {
    "collapsed": true
   },
   "outputs": [],
   "source": [
    "p = positions"
   ]
  },
  {
   "cell_type": "code",
   "execution_count": 28,
   "metadata": {},
   "outputs": [
    {
     "data": {
      "text/plain": [
       "array([ 0.8055768 ,  0.27903842,  0.88338899,  0.27507167,  0.29947214,\n",
       "        0.97542876,  0.38386213,  0.82545367,  0.66463856,  0.37191593])"
      ]
     },
     "execution_count": 28,
     "metadata": {},
     "output_type": "execute_result"
    }
   ],
   "source": [
    "p[:,0]"
   ]
  },
  {
   "cell_type": "code",
   "execution_count": 29,
   "metadata": {
    "collapsed": true
   },
   "outputs": [],
   "source": [
    "absXY = np.absolute(positions[1:] - positions[0])\n",
    "absX = absXY[:,0]\n",
    "absY = absXY[:,1]"
   ]
  },
  {
   "cell_type": "code",
   "execution_count": 30,
   "metadata": {},
   "outputs": [
    {
     "data": {
      "text/plain": [
       "array([ 3.47346162,  3.92218781,  3.46949487,  3.49389534,  3.83014805,\n",
       "        3.57828533,  3.98012314,  3.85906175,  3.56633913])"
      ]
     },
     "execution_count": 30,
     "metadata": {},
     "output_type": "execute_result"
    }
   ],
   "source": [
    "w - absX"
   ]
  },
  {
   "cell_type": "code",
   "execution_count": 31,
   "metadata": {},
   "outputs": [
    {
     "data": {
      "text/plain": [
       "array([ 3.76666944,  3.51717747,  3.73990603,  3.67726553,  3.72044919,\n",
       "        3.7326905 ,  3.81361089,  3.58171275,  3.55439119])"
      ]
     },
     "execution_count": 31,
     "metadata": {},
     "output_type": "execute_result"
    }
   ],
   "source": [
    "h - absY"
   ]
  },
  {
   "cell_type": "code",
   "execution_count": 38,
   "metadata": {},
   "outputs": [
    {
     "data": {
      "text/plain": [
       "array([ 0.57592171,  0.48905248,  0.59083379,  0.6002495 ,  0.32710601,\n",
       "        0.49929714,  0.18744597,  0.44139303,  0.62179495])"
      ]
     },
     "execution_count": 38,
     "metadata": {},
     "output_type": "execute_result"
    }
   ],
   "source": [
    "np.sqrt(np.square(np.minimum(absX, w - absX)) + np.square(np.minimum(absY, h - absY)))"
   ]
  },
  {
   "cell_type": "code",
   "execution_count": 16,
   "metadata": {
    "collapsed": true
   },
   "outputs": [],
   "source": [
    "import numpy as np\n",
    "\n",
    "positions = np.random.rand(10,2)\n",
    "dists = np.linalg.norm(positions[1:] - positions[0], axis=1)\n",
    "index = np.argmin(dists)"
   ]
  },
  {
   "cell_type": "code",
   "execution_count": 18,
   "metadata": {},
   "outputs": [
    {
     "data": {
      "text/plain": [
       "array([[ 0.67926927,  0.84206259],\n",
       "       [ 0.38837043,  0.33305344],\n",
       "       [ 0.78856311,  0.53062285],\n",
       "       [ 0.52858871,  0.92831157],\n",
       "       [ 0.09269706,  0.44325111],\n",
       "       [ 0.60226778,  0.41077772],\n",
       "       [ 0.68092895,  0.4604939 ],\n",
       "       [ 0.14024837,  0.68292788],\n",
       "       [ 0.34249293,  0.23164666],\n",
       "       [ 0.33996092,  0.88575948]])"
      ]
     },
     "execution_count": 18,
     "metadata": {},
     "output_type": "execute_result"
    }
   ],
   "source": [
    "positions"
   ]
  },
  {
   "cell_type": "code",
   "execution_count": 23,
   "metadata": {
    "collapsed": true
   },
   "outputs": [],
   "source": [
    "angles = np.random.rand(10,1)"
   ]
  },
  {
   "cell_type": "code",
   "execution_count": 24,
   "metadata": {},
   "outputs": [
    {
     "data": {
      "text/plain": [
       "array([[ 0.65744335],\n",
       "       [ 0.74789537],\n",
       "       [ 0.1408046 ],\n",
       "       [ 0.70326666],\n",
       "       [ 0.11955554],\n",
       "       [ 0.27388164],\n",
       "       [ 0.48594011],\n",
       "       [ 0.74084597],\n",
       "       [ 0.26753617],\n",
       "       [ 0.80317229]])"
      ]
     },
     "execution_count": 24,
     "metadata": {},
     "output_type": "execute_result"
    }
   ],
   "source": [
    "angles"
   ]
  },
  {
   "cell_type": "code",
   "execution_count": 26,
   "metadata": {},
   "outputs": [
    {
     "data": {
      "text/plain": [
       "array([[ 0.67926927,  0.84206259,  0.65744335],\n",
       "       [ 0.38837043,  0.33305344,  0.74789537],\n",
       "       [ 0.78856311,  0.53062285,  0.1408046 ],\n",
       "       [ 0.52858871,  0.92831157,  0.70326666],\n",
       "       [ 0.09269706,  0.44325111,  0.11955554],\n",
       "       [ 0.60226778,  0.41077772,  0.27388164],\n",
       "       [ 0.68092895,  0.4604939 ,  0.48594011],\n",
       "       [ 0.14024837,  0.68292788,  0.74084597],\n",
       "       [ 0.34249293,  0.23164666,  0.26753617],\n",
       "       [ 0.33996092,  0.88575948,  0.80317229]])"
      ]
     },
     "execution_count": 26,
     "metadata": {},
     "output_type": "execute_result"
    }
   ],
   "source": [
    "np.hstack((positions, angles))"
   ]
  },
  {
   "cell_type": "code",
   "execution_count": 27,
   "metadata": {},
   "outputs": [
    {
     "data": {
      "text/plain": [
       "(10, 1)"
      ]
     },
     "execution_count": 27,
     "metadata": {},
     "output_type": "execute_result"
    }
   ],
   "source": [
    "angles.shape"
   ]
  },
  {
   "cell_type": "code",
   "execution_count": 2,
   "metadata": {},
   "outputs": [
    {
     "data": {
      "text/plain": [
       "'111111111111111111111111111111'"
      ]
     },
     "execution_count": 2,
     "metadata": {},
     "output_type": "execute_result"
    }
   ],
   "source": [
    "\"1\"*30"
   ]
  },
  {
   "cell_type": "code",
   "execution_count": 15,
   "metadata": {
    "collapsed": true
   },
   "outputs": [],
   "source": [
    "a = [(0,0),(1,1),(2,2),(3,3),(4,4),(5,5)]\n",
    "pos = 2"
   ]
  },
  {
   "cell_type": "code",
   "execution_count": 16,
   "metadata": {},
   "outputs": [
    {
     "data": {
      "text/plain": [
       "[(0, 0), (2, 2), (3, 3), (4, 4), (5, 5)]"
      ]
     },
     "execution_count": 16,
     "metadata": {},
     "output_type": "execute_result"
    }
   ],
   "source": [
    "[a[0]] + [a[pos]] + a[2:pos] + a[pos + 1:]"
   ]
  },
  {
   "cell_type": "code",
   "execution_count": 4,
   "metadata": {},
   "outputs": [
    {
     "data": {
      "text/plain": [
       "[2, 3, 4]"
      ]
     },
     "execution_count": 4,
     "metadata": {},
     "output_type": "execute_result"
    }
   ],
   "source": [
    "a[2:]"
   ]
  },
  {
   "cell_type": "code",
   "execution_count": 7,
   "metadata": {},
   "outputs": [
    {
     "data": {
      "text/plain": [
       "array([[ 6,  7,  8],\n",
       "       [ 3,  4,  5],\n",
       "       [24, 25, 26],\n",
       "       [15, 16, 17],\n",
       "       [ 0,  1,  2],\n",
       "       [ 9, 10, 11],\n",
       "       [18, 19, 20],\n",
       "       [12, 13, 14],\n",
       "       [27, 28, 29],\n",
       "       [21, 22, 23]])"
      ]
     },
     "execution_count": 7,
     "metadata": {},
     "output_type": "execute_result"
    }
   ],
   "source": [
    "import numpy as np\n",
    "arr = np.arange(30).reshape((10, 3))\n",
    "np.random.shuffle(arr)\n",
    "arr\n"
   ]
  },
  {
   "cell_type": "code",
   "execution_count": 8,
   "metadata": {},
   "outputs": [
    {
     "data": {
      "text/plain": [
       "array([[[ 6,  7,  8]],\n",
       "\n",
       "       [[ 3,  4,  5]],\n",
       "\n",
       "       [[24, 25, 26]],\n",
       "\n",
       "       [[15, 16, 17]],\n",
       "\n",
       "       [[ 0,  1,  2]],\n",
       "\n",
       "       [[ 9, 10, 11]],\n",
       "\n",
       "       [[18, 19, 20]],\n",
       "\n",
       "       [[12, 13, 14]],\n",
       "\n",
       "       [[27, 28, 29]],\n",
       "\n",
       "       [[21, 22, 23]]])"
      ]
     },
     "execution_count": 8,
     "metadata": {},
     "output_type": "execute_result"
    }
   ],
   "source": [
    "arr.reshape(10,1,3)"
   ]
  },
  {
   "cell_type": "code",
   "execution_count": 9,
   "metadata": {},
   "outputs": [
    {
     "data": {
      "text/plain": [
       "[-90, -60, -30, 0, 30, 60, 90]"
      ]
     },
     "execution_count": 9,
     "metadata": {},
     "output_type": "execute_result"
    }
   ],
   "source": [
    "range(-90, 100, 30)"
   ]
  },
  {
   "cell_type": "code",
   "execution_count": 10,
   "metadata": {},
   "outputs": [
    {
     "data": {
      "text/plain": [
       "[0]"
      ]
     },
     "execution_count": 10,
     "metadata": {},
     "output_type": "execute_result"
    }
   ],
   "source": [
    "range(1)"
   ]
  },
  {
   "cell_type": "code",
   "execution_count": 2,
   "metadata": {},
   "outputs": [
    {
     "data": {
      "text/plain": [
       "[-45, -30, -15, 0, 15, 30, 45]"
      ]
     },
     "execution_count": 2,
     "metadata": {},
     "output_type": "execute_result"
    }
   ],
   "source": [
    "range(-45, 50, 15)"
   ]
  },
  {
   "cell_type": "code",
   "execution_count": 40,
   "metadata": {
    "collapsed": true
   },
   "outputs": [],
   "source": [
    "import numpy as np\n",
    "\n",
    "d = np.random.rand(10,2)"
   ]
  },
  {
   "cell_type": "code",
   "execution_count": 28,
   "metadata": {},
   "outputs": [
    {
     "data": {
      "text/plain": [
       "array([ 0.95356597,  0.77318023])"
      ]
     },
     "execution_count": 28,
     "metadata": {},
     "output_type": "execute_result"
    }
   ],
   "source": [
    "d[0]"
   ]
  },
  {
   "cell_type": "code",
   "execution_count": 29,
   "metadata": {},
   "outputs": [
    {
     "data": {
      "text/plain": [
       "array([ 0.45618875,  0.68960478,  0.4081728 ,  0.53647494,  0.6140717 ,\n",
       "        0.43112546,  1.08330521,  0.93129695,  0.84395401])"
      ]
     },
     "execution_count": 29,
     "metadata": {},
     "output_type": "execute_result"
    }
   ],
   "source": [
    "np.linalg.norm(d[1:] - d[0], axis=1)"
   ]
  },
  {
   "cell_type": "code",
   "execution_count": 30,
   "metadata": {},
   "outputs": [
    {
     "data": {
      "text/plain": [
       "array([ 0.45618875,  0.68960478,  0.4081728 ,  0.53647494,  0.6140717 ,\n",
       "        0.43112546,  1.08330521,  0.93129695,  0.84395401])"
      ]
     },
     "execution_count": 30,
     "metadata": {},
     "output_type": "execute_result"
    }
   ],
   "source": [
    "a_min_b = d[1:] - d[0]\n",
    "np.sqrt(np.einsum('ij,ij->i', a_min_b, a_min_b))"
   ]
  },
  {
   "cell_type": "code",
   "execution_count": 31,
   "metadata": {},
   "outputs": [
    {
     "data": {
      "text/plain": [
       "array([[ 0.        ,  0.45618875,  0.68960478,  0.4081728 ,  0.53647494,\n",
       "         0.6140717 ,  0.43112546,  1.08330521,  0.93129695,  0.84395401],\n",
       "       [ 0.45618875,  0.        ,  0.58711243,  0.3956913 ,  0.36251558,\n",
       "         0.27901345,  0.39278887,  0.67428794,  0.47890903,  0.38778237],\n",
       "       [ 0.68960478,  0.58711243,  0.        ,  0.28304494,  0.22466842,\n",
       "         0.36979498,  0.2627276 ,  0.67636449,  0.74429522,  0.75266101],\n",
       "       [ 0.4081728 ,  0.3956913 ,  0.28304494,  0.        ,  0.16270606,\n",
       "         0.32467714,  0.026065  ,  0.77823216,  0.73049601,  0.69179815],\n",
       "       [ 0.53647494,  0.36251558,  0.22466842,  0.16270606,  0.        ,\n",
       "         0.18446022,  0.13774594,  0.61677541,  0.59383435,  0.57384882],\n",
       "       [ 0.6140717 ,  0.27901345,  0.36979498,  0.32467714,  0.18446022,\n",
       "         0.        ,  0.30441396,  0.47418699,  0.41025313,  0.39159839],\n",
       "       [ 0.43112546,  0.39278887,  0.2627276 ,  0.026065  ,  0.13774594,\n",
       "         0.30441396,  0.        ,  0.75407347,  0.71216821,  0.67682057],\n",
       "       [ 1.08330521,  0.67428794,  0.67636449,  0.77823216,  0.61677541,\n",
       "         0.47418699,  0.75407347,  0.        ,  0.30315604,  0.41786834],\n",
       "       [ 0.93129695,  0.47890903,  0.74429522,  0.73049601,  0.59383435,\n",
       "         0.41025313,  0.71216821,  0.30315604,  0.        ,  0.12335233],\n",
       "       [ 0.84395401,  0.38778237,  0.75266101,  0.69179815,  0.57384882,\n",
       "         0.39159839,  0.67682057,  0.41786834,  0.12335233,  0.        ]])"
      ]
     },
     "execution_count": 31,
     "metadata": {},
     "output_type": "execute_result"
    }
   ],
   "source": [
    "b = d.reshape(d.shape[0], 1, d.shape[1])\n",
    "\n",
    "np.sqrt(np.einsum('ijk, ijk->ij', d-b, d-b))"
   ]
  },
  {
   "cell_type": "code",
   "execution_count": 32,
   "metadata": {},
   "outputs": [
    {
     "data": {
      "text/plain": [
       "array([[ 0.95356597,  0.77318023],\n",
       "       [ 0.5227717 ,  0.62309867],\n",
       "       [ 0.79386679,  0.10232189],\n",
       "       [ 0.83661972,  0.38211936],\n",
       "       [ 0.69410041,  0.30362408],\n",
       "       [ 0.51416237,  0.34421807],\n",
       "       [ 0.81793651,  0.36394459],\n",
       "       [ 0.11775037,  0.08400503],\n",
       "       [ 0.1061396 ,  0.38693865],\n",
       "       [ 0.15497552,  0.500212  ]])"
      ]
     },
     "execution_count": 32,
     "metadata": {},
     "output_type": "execute_result"
    }
   ],
   "source": [
    "d"
   ]
  },
  {
   "cell_type": "code",
   "execution_count": 33,
   "metadata": {
    "collapsed": true
   },
   "outputs": [],
   "source": [
    "d[1], d[0] = d[0], d[1]"
   ]
  },
  {
   "cell_type": "code",
   "execution_count": 34,
   "metadata": {},
   "outputs": [
    {
     "data": {
      "text/plain": [
       "array([[ 0.95356597,  0.77318023],\n",
       "       [ 0.95356597,  0.77318023],\n",
       "       [ 0.79386679,  0.10232189],\n",
       "       [ 0.83661972,  0.38211936],\n",
       "       [ 0.69410041,  0.30362408],\n",
       "       [ 0.51416237,  0.34421807],\n",
       "       [ 0.81793651,  0.36394459],\n",
       "       [ 0.11775037,  0.08400503],\n",
       "       [ 0.1061396 ,  0.38693865],\n",
       "       [ 0.15497552,  0.500212  ]])"
      ]
     },
     "execution_count": 34,
     "metadata": {},
     "output_type": "execute_result"
    }
   ],
   "source": [
    "d"
   ]
  },
  {
   "cell_type": "code",
   "execution_count": 24,
   "metadata": {},
   "outputs": [
    {
     "data": {
      "text/plain": [
       "(10, 2)"
      ]
     },
     "execution_count": 24,
     "metadata": {},
     "output_type": "execute_result"
    }
   ],
   "source": [
    "d.shape"
   ]
  },
  {
   "cell_type": "code",
   "execution_count": 25,
   "metadata": {},
   "outputs": [
    {
     "data": {
      "text/plain": [
       "array([ 0.65145582,  0.86403643])"
      ]
     },
     "execution_count": 25,
     "metadata": {},
     "output_type": "execute_result"
    }
   ],
   "source": [
    "d[0]"
   ]
  },
  {
   "cell_type": "code",
   "execution_count": 26,
   "metadata": {},
   "outputs": [
    {
     "data": {
      "text/plain": [
       "array([ 0.65145582,  0.86403643])"
      ]
     },
     "execution_count": 26,
     "metadata": {},
     "output_type": "execute_result"
    }
   ],
   "source": [
    "d[1]"
   ]
  },
  {
   "cell_type": "code",
   "execution_count": 35,
   "metadata": {
    "collapsed": true
   },
   "outputs": [],
   "source": [
    "d = [(0,1),(2,3),(4,5),(6,7)]"
   ]
  },
  {
   "cell_type": "code",
   "execution_count": 36,
   "metadata": {
    "collapsed": true
   },
   "outputs": [],
   "source": [
    "d[1], d[0] = d[0], d[1]"
   ]
  },
  {
   "cell_type": "code",
   "execution_count": 37,
   "metadata": {},
   "outputs": [
    {
     "data": {
      "text/plain": [
       "[(2, 3), (0, 1), (4, 5), (6, 7)]"
      ]
     },
     "execution_count": 37,
     "metadata": {},
     "output_type": "execute_result"
    }
   ],
   "source": [
    "d"
   ]
  },
  {
   "cell_type": "code",
   "execution_count": 41,
   "metadata": {},
   "outputs": [
    {
     "ename": "TypeError",
     "evalue": "data type not understood",
     "output_type": "error",
     "traceback": [
      "\u001b[0;31m---------------------------------------------------------------------------\u001b[0m",
      "\u001b[0;31mTypeError\u001b[0m                                 Traceback (most recent call last)",
      "\u001b[0;32m<ipython-input-41-6717b02cb683>\u001b[0m in \u001b[0;36m<module>\u001b[0;34m()\u001b[0m\n\u001b[0;32m----> 1\u001b[0;31m \u001b[0mnp\u001b[0m\u001b[0;34m.\u001b[0m\u001b[0mzeros\u001b[0m\u001b[0;34m(\u001b[0m\u001b[0;36m1\u001b[0m\u001b[0;34m,\u001b[0m\u001b[0;36m1000\u001b[0m\u001b[0;34m)\u001b[0m\u001b[0;34m\u001b[0m\u001b[0m\n\u001b[0m",
      "\u001b[0;31mTypeError\u001b[0m: data type not understood"
     ]
    }
   ],
   "source": [
    "np.zeros(1,1000)"
   ]
  },
  {
   "cell_type": "code",
   "execution_count": 42,
   "metadata": {},
   "outputs": [
    {
     "data": {
      "text/plain": [
       "array([], shape=(0, 100), dtype=float64)"
      ]
     },
     "execution_count": 42,
     "metadata": {},
     "output_type": "execute_result"
    }
   ],
   "source": [
    "np.empty((0, 100))"
   ]
  },
  {
   "cell_type": "code",
   "execution_count": 1,
   "metadata": {
    "collapsed": true
   },
   "outputs": [],
   "source": [
    "import numpy as np\n",
    "\n",
    "d = np.random.rand(11,2)\n"
   ]
  },
  {
   "cell_type": "code",
   "execution_count": 4,
   "metadata": {},
   "outputs": [
    {
     "name": "stdout",
     "output_type": "stream",
     "text": [
      "[ 0.29217352  0.56913367] [ 0.85819312  0.78597318] [ 0.31755224  0.84340279] [ 0.6802908   0.00286351] [ 0.29405472  0.18831654] [ 0.88005311  0.86775347] [ 0.91683317  0.50221105] [ 0.65146215  0.29057042] [ 0.23019538  0.09111197] [ 0.682842    0.67069825]\n"
     ]
    }
   ],
   "source": [
    "for i in d:\n",
    "    print i,"
   ]
  },
  {
   "cell_type": "code",
   "execution_count": 8,
   "metadata": {},
   "outputs": [
    {
     "data": {
      "text/plain": [
       "array([ 1.75539969,  1.41057247,  1.66092301,  1.27123248,  1.56895136,\n",
       "        1.23646442,  1.38326593,  1.65388614,  1.96839874,  1.78474918,\n",
       "        1.9714917 ])"
      ]
     },
     "execution_count": 8,
     "metadata": {},
     "output_type": "execute_result"
    }
   ],
   "source": [
    "np.random.rand(11) + 1"
   ]
  },
  {
   "cell_type": "code",
   "execution_count": 9,
   "metadata": {
    "collapsed": true
   },
   "outputs": [],
   "source": [
    "a = [0,1,2,3,4]"
   ]
  },
  {
   "cell_type": "code",
   "execution_count": 10,
   "metadata": {},
   "outputs": [
    {
     "data": {
      "text/plain": [
       "[0, 1]"
      ]
     },
     "execution_count": 10,
     "metadata": {},
     "output_type": "execute_result"
    }
   ],
   "source": [
    "a[:2]"
   ]
  },
  {
   "cell_type": "code",
   "execution_count": 1,
   "metadata": {
    "collapsed": true
   },
   "outputs": [],
   "source": [
    "seeds = range(3)\n",
    "steps = [100000, 500000]\n",
    "hiddenL = [1, 3, 5]\n",
    "hiddenNActor = [16, 200]\n",
    "hiddenNCritic = [32, 200]\n",
    "gamma = [.99]\n",
    "lr = [1e-3]\n",
    "memory = [100000]\n",
    "batch_size = [64, 128, 512]\n",
    "warmup = [100]\n",
    "fish = [3]\n",
    "observableFish = [3]"
   ]
  },
  {
   "cell_type": "code",
   "execution_count": 3,
   "metadata": {
    "collapsed": true
   },
   "outputs": [],
   "source": [
    "import itertools\n",
    "l =list(itertools.product(seeds, steps, hiddenL, hiddenNActor, hiddenNCritic, gamma, lr, memory, batch_size, warmup, fish, observableFish))"
   ]
  },
  {
   "cell_type": "code",
   "execution_count": 4,
   "metadata": {},
   "outputs": [
    {
     "data": {
      "text/plain": [
       "[(0, 100000, 1, 16, 32, 0.99, 0.001, 100000, 64, 100, 3, 3),\n",
       " (0, 100000, 1, 16, 32, 0.99, 0.001, 100000, 128, 100, 3, 3),\n",
       " (0, 100000, 1, 16, 32, 0.99, 0.001, 100000, 512, 100, 3, 3),\n",
       " (0, 100000, 1, 16, 200, 0.99, 0.001, 100000, 64, 100, 3, 3),\n",
       " (0, 100000, 1, 16, 200, 0.99, 0.001, 100000, 128, 100, 3, 3),\n",
       " (0, 100000, 1, 16, 200, 0.99, 0.001, 100000, 512, 100, 3, 3),\n",
       " (0, 100000, 1, 200, 32, 0.99, 0.001, 100000, 64, 100, 3, 3),\n",
       " (0, 100000, 1, 200, 32, 0.99, 0.001, 100000, 128, 100, 3, 3),\n",
       " (0, 100000, 1, 200, 32, 0.99, 0.001, 100000, 512, 100, 3, 3),\n",
       " (0, 100000, 1, 200, 200, 0.99, 0.001, 100000, 64, 100, 3, 3),\n",
       " (0, 100000, 1, 200, 200, 0.99, 0.001, 100000, 128, 100, 3, 3),\n",
       " (0, 100000, 1, 200, 200, 0.99, 0.001, 100000, 512, 100, 3, 3),\n",
       " (0, 100000, 3, 16, 32, 0.99, 0.001, 100000, 64, 100, 3, 3),\n",
       " (0, 100000, 3, 16, 32, 0.99, 0.001, 100000, 128, 100, 3, 3),\n",
       " (0, 100000, 3, 16, 32, 0.99, 0.001, 100000, 512, 100, 3, 3),\n",
       " (0, 100000, 3, 16, 200, 0.99, 0.001, 100000, 64, 100, 3, 3),\n",
       " (0, 100000, 3, 16, 200, 0.99, 0.001, 100000, 128, 100, 3, 3),\n",
       " (0, 100000, 3, 16, 200, 0.99, 0.001, 100000, 512, 100, 3, 3),\n",
       " (0, 100000, 3, 200, 32, 0.99, 0.001, 100000, 64, 100, 3, 3),\n",
       " (0, 100000, 3, 200, 32, 0.99, 0.001, 100000, 128, 100, 3, 3),\n",
       " (0, 100000, 3, 200, 32, 0.99, 0.001, 100000, 512, 100, 3, 3),\n",
       " (0, 100000, 3, 200, 200, 0.99, 0.001, 100000, 64, 100, 3, 3),\n",
       " (0, 100000, 3, 200, 200, 0.99, 0.001, 100000, 128, 100, 3, 3),\n",
       " (0, 100000, 3, 200, 200, 0.99, 0.001, 100000, 512, 100, 3, 3),\n",
       " (0, 100000, 5, 16, 32, 0.99, 0.001, 100000, 64, 100, 3, 3),\n",
       " (0, 100000, 5, 16, 32, 0.99, 0.001, 100000, 128, 100, 3, 3),\n",
       " (0, 100000, 5, 16, 32, 0.99, 0.001, 100000, 512, 100, 3, 3),\n",
       " (0, 100000, 5, 16, 200, 0.99, 0.001, 100000, 64, 100, 3, 3),\n",
       " (0, 100000, 5, 16, 200, 0.99, 0.001, 100000, 128, 100, 3, 3),\n",
       " (0, 100000, 5, 16, 200, 0.99, 0.001, 100000, 512, 100, 3, 3),\n",
       " (0, 100000, 5, 200, 32, 0.99, 0.001, 100000, 64, 100, 3, 3),\n",
       " (0, 100000, 5, 200, 32, 0.99, 0.001, 100000, 128, 100, 3, 3),\n",
       " (0, 100000, 5, 200, 32, 0.99, 0.001, 100000, 512, 100, 3, 3),\n",
       " (0, 100000, 5, 200, 200, 0.99, 0.001, 100000, 64, 100, 3, 3),\n",
       " (0, 100000, 5, 200, 200, 0.99, 0.001, 100000, 128, 100, 3, 3),\n",
       " (0, 100000, 5, 200, 200, 0.99, 0.001, 100000, 512, 100, 3, 3),\n",
       " (0, 500000, 1, 16, 32, 0.99, 0.001, 100000, 64, 100, 3, 3),\n",
       " (0, 500000, 1, 16, 32, 0.99, 0.001, 100000, 128, 100, 3, 3),\n",
       " (0, 500000, 1, 16, 32, 0.99, 0.001, 100000, 512, 100, 3, 3),\n",
       " (0, 500000, 1, 16, 200, 0.99, 0.001, 100000, 64, 100, 3, 3),\n",
       " (0, 500000, 1, 16, 200, 0.99, 0.001, 100000, 128, 100, 3, 3),\n",
       " (0, 500000, 1, 16, 200, 0.99, 0.001, 100000, 512, 100, 3, 3),\n",
       " (0, 500000, 1, 200, 32, 0.99, 0.001, 100000, 64, 100, 3, 3),\n",
       " (0, 500000, 1, 200, 32, 0.99, 0.001, 100000, 128, 100, 3, 3),\n",
       " (0, 500000, 1, 200, 32, 0.99, 0.001, 100000, 512, 100, 3, 3),\n",
       " (0, 500000, 1, 200, 200, 0.99, 0.001, 100000, 64, 100, 3, 3),\n",
       " (0, 500000, 1, 200, 200, 0.99, 0.001, 100000, 128, 100, 3, 3),\n",
       " (0, 500000, 1, 200, 200, 0.99, 0.001, 100000, 512, 100, 3, 3),\n",
       " (0, 500000, 3, 16, 32, 0.99, 0.001, 100000, 64, 100, 3, 3),\n",
       " (0, 500000, 3, 16, 32, 0.99, 0.001, 100000, 128, 100, 3, 3),\n",
       " (0, 500000, 3, 16, 32, 0.99, 0.001, 100000, 512, 100, 3, 3),\n",
       " (0, 500000, 3, 16, 200, 0.99, 0.001, 100000, 64, 100, 3, 3),\n",
       " (0, 500000, 3, 16, 200, 0.99, 0.001, 100000, 128, 100, 3, 3),\n",
       " (0, 500000, 3, 16, 200, 0.99, 0.001, 100000, 512, 100, 3, 3),\n",
       " (0, 500000, 3, 200, 32, 0.99, 0.001, 100000, 64, 100, 3, 3),\n",
       " (0, 500000, 3, 200, 32, 0.99, 0.001, 100000, 128, 100, 3, 3),\n",
       " (0, 500000, 3, 200, 32, 0.99, 0.001, 100000, 512, 100, 3, 3),\n",
       " (0, 500000, 3, 200, 200, 0.99, 0.001, 100000, 64, 100, 3, 3),\n",
       " (0, 500000, 3, 200, 200, 0.99, 0.001, 100000, 128, 100, 3, 3),\n",
       " (0, 500000, 3, 200, 200, 0.99, 0.001, 100000, 512, 100, 3, 3),\n",
       " (0, 500000, 5, 16, 32, 0.99, 0.001, 100000, 64, 100, 3, 3),\n",
       " (0, 500000, 5, 16, 32, 0.99, 0.001, 100000, 128, 100, 3, 3),\n",
       " (0, 500000, 5, 16, 32, 0.99, 0.001, 100000, 512, 100, 3, 3),\n",
       " (0, 500000, 5, 16, 200, 0.99, 0.001, 100000, 64, 100, 3, 3),\n",
       " (0, 500000, 5, 16, 200, 0.99, 0.001, 100000, 128, 100, 3, 3),\n",
       " (0, 500000, 5, 16, 200, 0.99, 0.001, 100000, 512, 100, 3, 3),\n",
       " (0, 500000, 5, 200, 32, 0.99, 0.001, 100000, 64, 100, 3, 3),\n",
       " (0, 500000, 5, 200, 32, 0.99, 0.001, 100000, 128, 100, 3, 3),\n",
       " (0, 500000, 5, 200, 32, 0.99, 0.001, 100000, 512, 100, 3, 3),\n",
       " (0, 500000, 5, 200, 200, 0.99, 0.001, 100000, 64, 100, 3, 3),\n",
       " (0, 500000, 5, 200, 200, 0.99, 0.001, 100000, 128, 100, 3, 3),\n",
       " (0, 500000, 5, 200, 200, 0.99, 0.001, 100000, 512, 100, 3, 3),\n",
       " (1, 100000, 1, 16, 32, 0.99, 0.001, 100000, 64, 100, 3, 3),\n",
       " (1, 100000, 1, 16, 32, 0.99, 0.001, 100000, 128, 100, 3, 3),\n",
       " (1, 100000, 1, 16, 32, 0.99, 0.001, 100000, 512, 100, 3, 3),\n",
       " (1, 100000, 1, 16, 200, 0.99, 0.001, 100000, 64, 100, 3, 3),\n",
       " (1, 100000, 1, 16, 200, 0.99, 0.001, 100000, 128, 100, 3, 3),\n",
       " (1, 100000, 1, 16, 200, 0.99, 0.001, 100000, 512, 100, 3, 3),\n",
       " (1, 100000, 1, 200, 32, 0.99, 0.001, 100000, 64, 100, 3, 3),\n",
       " (1, 100000, 1, 200, 32, 0.99, 0.001, 100000, 128, 100, 3, 3),\n",
       " (1, 100000, 1, 200, 32, 0.99, 0.001, 100000, 512, 100, 3, 3),\n",
       " (1, 100000, 1, 200, 200, 0.99, 0.001, 100000, 64, 100, 3, 3),\n",
       " (1, 100000, 1, 200, 200, 0.99, 0.001, 100000, 128, 100, 3, 3),\n",
       " (1, 100000, 1, 200, 200, 0.99, 0.001, 100000, 512, 100, 3, 3),\n",
       " (1, 100000, 3, 16, 32, 0.99, 0.001, 100000, 64, 100, 3, 3),\n",
       " (1, 100000, 3, 16, 32, 0.99, 0.001, 100000, 128, 100, 3, 3),\n",
       " (1, 100000, 3, 16, 32, 0.99, 0.001, 100000, 512, 100, 3, 3),\n",
       " (1, 100000, 3, 16, 200, 0.99, 0.001, 100000, 64, 100, 3, 3),\n",
       " (1, 100000, 3, 16, 200, 0.99, 0.001, 100000, 128, 100, 3, 3),\n",
       " (1, 100000, 3, 16, 200, 0.99, 0.001, 100000, 512, 100, 3, 3),\n",
       " (1, 100000, 3, 200, 32, 0.99, 0.001, 100000, 64, 100, 3, 3),\n",
       " (1, 100000, 3, 200, 32, 0.99, 0.001, 100000, 128, 100, 3, 3),\n",
       " (1, 100000, 3, 200, 32, 0.99, 0.001, 100000, 512, 100, 3, 3),\n",
       " (1, 100000, 3, 200, 200, 0.99, 0.001, 100000, 64, 100, 3, 3),\n",
       " (1, 100000, 3, 200, 200, 0.99, 0.001, 100000, 128, 100, 3, 3),\n",
       " (1, 100000, 3, 200, 200, 0.99, 0.001, 100000, 512, 100, 3, 3),\n",
       " (1, 100000, 5, 16, 32, 0.99, 0.001, 100000, 64, 100, 3, 3),\n",
       " (1, 100000, 5, 16, 32, 0.99, 0.001, 100000, 128, 100, 3, 3),\n",
       " (1, 100000, 5, 16, 32, 0.99, 0.001, 100000, 512, 100, 3, 3),\n",
       " (1, 100000, 5, 16, 200, 0.99, 0.001, 100000, 64, 100, 3, 3),\n",
       " (1, 100000, 5, 16, 200, 0.99, 0.001, 100000, 128, 100, 3, 3),\n",
       " (1, 100000, 5, 16, 200, 0.99, 0.001, 100000, 512, 100, 3, 3),\n",
       " (1, 100000, 5, 200, 32, 0.99, 0.001, 100000, 64, 100, 3, 3),\n",
       " (1, 100000, 5, 200, 32, 0.99, 0.001, 100000, 128, 100, 3, 3),\n",
       " (1, 100000, 5, 200, 32, 0.99, 0.001, 100000, 512, 100, 3, 3),\n",
       " (1, 100000, 5, 200, 200, 0.99, 0.001, 100000, 64, 100, 3, 3),\n",
       " (1, 100000, 5, 200, 200, 0.99, 0.001, 100000, 128, 100, 3, 3),\n",
       " (1, 100000, 5, 200, 200, 0.99, 0.001, 100000, 512, 100, 3, 3),\n",
       " (1, 500000, 1, 16, 32, 0.99, 0.001, 100000, 64, 100, 3, 3),\n",
       " (1, 500000, 1, 16, 32, 0.99, 0.001, 100000, 128, 100, 3, 3),\n",
       " (1, 500000, 1, 16, 32, 0.99, 0.001, 100000, 512, 100, 3, 3),\n",
       " (1, 500000, 1, 16, 200, 0.99, 0.001, 100000, 64, 100, 3, 3),\n",
       " (1, 500000, 1, 16, 200, 0.99, 0.001, 100000, 128, 100, 3, 3),\n",
       " (1, 500000, 1, 16, 200, 0.99, 0.001, 100000, 512, 100, 3, 3),\n",
       " (1, 500000, 1, 200, 32, 0.99, 0.001, 100000, 64, 100, 3, 3),\n",
       " (1, 500000, 1, 200, 32, 0.99, 0.001, 100000, 128, 100, 3, 3),\n",
       " (1, 500000, 1, 200, 32, 0.99, 0.001, 100000, 512, 100, 3, 3),\n",
       " (1, 500000, 1, 200, 200, 0.99, 0.001, 100000, 64, 100, 3, 3),\n",
       " (1, 500000, 1, 200, 200, 0.99, 0.001, 100000, 128, 100, 3, 3),\n",
       " (1, 500000, 1, 200, 200, 0.99, 0.001, 100000, 512, 100, 3, 3),\n",
       " (1, 500000, 3, 16, 32, 0.99, 0.001, 100000, 64, 100, 3, 3),\n",
       " (1, 500000, 3, 16, 32, 0.99, 0.001, 100000, 128, 100, 3, 3),\n",
       " (1, 500000, 3, 16, 32, 0.99, 0.001, 100000, 512, 100, 3, 3),\n",
       " (1, 500000, 3, 16, 200, 0.99, 0.001, 100000, 64, 100, 3, 3),\n",
       " (1, 500000, 3, 16, 200, 0.99, 0.001, 100000, 128, 100, 3, 3),\n",
       " (1, 500000, 3, 16, 200, 0.99, 0.001, 100000, 512, 100, 3, 3),\n",
       " (1, 500000, 3, 200, 32, 0.99, 0.001, 100000, 64, 100, 3, 3),\n",
       " (1, 500000, 3, 200, 32, 0.99, 0.001, 100000, 128, 100, 3, 3),\n",
       " (1, 500000, 3, 200, 32, 0.99, 0.001, 100000, 512, 100, 3, 3),\n",
       " (1, 500000, 3, 200, 200, 0.99, 0.001, 100000, 64, 100, 3, 3),\n",
       " (1, 500000, 3, 200, 200, 0.99, 0.001, 100000, 128, 100, 3, 3),\n",
       " (1, 500000, 3, 200, 200, 0.99, 0.001, 100000, 512, 100, 3, 3),\n",
       " (1, 500000, 5, 16, 32, 0.99, 0.001, 100000, 64, 100, 3, 3),\n",
       " (1, 500000, 5, 16, 32, 0.99, 0.001, 100000, 128, 100, 3, 3),\n",
       " (1, 500000, 5, 16, 32, 0.99, 0.001, 100000, 512, 100, 3, 3),\n",
       " (1, 500000, 5, 16, 200, 0.99, 0.001, 100000, 64, 100, 3, 3),\n",
       " (1, 500000, 5, 16, 200, 0.99, 0.001, 100000, 128, 100, 3, 3),\n",
       " (1, 500000, 5, 16, 200, 0.99, 0.001, 100000, 512, 100, 3, 3),\n",
       " (1, 500000, 5, 200, 32, 0.99, 0.001, 100000, 64, 100, 3, 3),\n",
       " (1, 500000, 5, 200, 32, 0.99, 0.001, 100000, 128, 100, 3, 3),\n",
       " (1, 500000, 5, 200, 32, 0.99, 0.001, 100000, 512, 100, 3, 3),\n",
       " (1, 500000, 5, 200, 200, 0.99, 0.001, 100000, 64, 100, 3, 3),\n",
       " (1, 500000, 5, 200, 200, 0.99, 0.001, 100000, 128, 100, 3, 3),\n",
       " (1, 500000, 5, 200, 200, 0.99, 0.001, 100000, 512, 100, 3, 3),\n",
       " (2, 100000, 1, 16, 32, 0.99, 0.001, 100000, 64, 100, 3, 3),\n",
       " (2, 100000, 1, 16, 32, 0.99, 0.001, 100000, 128, 100, 3, 3),\n",
       " (2, 100000, 1, 16, 32, 0.99, 0.001, 100000, 512, 100, 3, 3),\n",
       " (2, 100000, 1, 16, 200, 0.99, 0.001, 100000, 64, 100, 3, 3),\n",
       " (2, 100000, 1, 16, 200, 0.99, 0.001, 100000, 128, 100, 3, 3),\n",
       " (2, 100000, 1, 16, 200, 0.99, 0.001, 100000, 512, 100, 3, 3),\n",
       " (2, 100000, 1, 200, 32, 0.99, 0.001, 100000, 64, 100, 3, 3),\n",
       " (2, 100000, 1, 200, 32, 0.99, 0.001, 100000, 128, 100, 3, 3),\n",
       " (2, 100000, 1, 200, 32, 0.99, 0.001, 100000, 512, 100, 3, 3),\n",
       " (2, 100000, 1, 200, 200, 0.99, 0.001, 100000, 64, 100, 3, 3),\n",
       " (2, 100000, 1, 200, 200, 0.99, 0.001, 100000, 128, 100, 3, 3),\n",
       " (2, 100000, 1, 200, 200, 0.99, 0.001, 100000, 512, 100, 3, 3),\n",
       " (2, 100000, 3, 16, 32, 0.99, 0.001, 100000, 64, 100, 3, 3),\n",
       " (2, 100000, 3, 16, 32, 0.99, 0.001, 100000, 128, 100, 3, 3),\n",
       " (2, 100000, 3, 16, 32, 0.99, 0.001, 100000, 512, 100, 3, 3),\n",
       " (2, 100000, 3, 16, 200, 0.99, 0.001, 100000, 64, 100, 3, 3),\n",
       " (2, 100000, 3, 16, 200, 0.99, 0.001, 100000, 128, 100, 3, 3),\n",
       " (2, 100000, 3, 16, 200, 0.99, 0.001, 100000, 512, 100, 3, 3),\n",
       " (2, 100000, 3, 200, 32, 0.99, 0.001, 100000, 64, 100, 3, 3),\n",
       " (2, 100000, 3, 200, 32, 0.99, 0.001, 100000, 128, 100, 3, 3),\n",
       " (2, 100000, 3, 200, 32, 0.99, 0.001, 100000, 512, 100, 3, 3),\n",
       " (2, 100000, 3, 200, 200, 0.99, 0.001, 100000, 64, 100, 3, 3),\n",
       " (2, 100000, 3, 200, 200, 0.99, 0.001, 100000, 128, 100, 3, 3),\n",
       " (2, 100000, 3, 200, 200, 0.99, 0.001, 100000, 512, 100, 3, 3),\n",
       " (2, 100000, 5, 16, 32, 0.99, 0.001, 100000, 64, 100, 3, 3),\n",
       " (2, 100000, 5, 16, 32, 0.99, 0.001, 100000, 128, 100, 3, 3),\n",
       " (2, 100000, 5, 16, 32, 0.99, 0.001, 100000, 512, 100, 3, 3),\n",
       " (2, 100000, 5, 16, 200, 0.99, 0.001, 100000, 64, 100, 3, 3),\n",
       " (2, 100000, 5, 16, 200, 0.99, 0.001, 100000, 128, 100, 3, 3),\n",
       " (2, 100000, 5, 16, 200, 0.99, 0.001, 100000, 512, 100, 3, 3),\n",
       " (2, 100000, 5, 200, 32, 0.99, 0.001, 100000, 64, 100, 3, 3),\n",
       " (2, 100000, 5, 200, 32, 0.99, 0.001, 100000, 128, 100, 3, 3),\n",
       " (2, 100000, 5, 200, 32, 0.99, 0.001, 100000, 512, 100, 3, 3),\n",
       " (2, 100000, 5, 200, 200, 0.99, 0.001, 100000, 64, 100, 3, 3),\n",
       " (2, 100000, 5, 200, 200, 0.99, 0.001, 100000, 128, 100, 3, 3),\n",
       " (2, 100000, 5, 200, 200, 0.99, 0.001, 100000, 512, 100, 3, 3),\n",
       " (2, 500000, 1, 16, 32, 0.99, 0.001, 100000, 64, 100, 3, 3),\n",
       " (2, 500000, 1, 16, 32, 0.99, 0.001, 100000, 128, 100, 3, 3),\n",
       " (2, 500000, 1, 16, 32, 0.99, 0.001, 100000, 512, 100, 3, 3),\n",
       " (2, 500000, 1, 16, 200, 0.99, 0.001, 100000, 64, 100, 3, 3),\n",
       " (2, 500000, 1, 16, 200, 0.99, 0.001, 100000, 128, 100, 3, 3),\n",
       " (2, 500000, 1, 16, 200, 0.99, 0.001, 100000, 512, 100, 3, 3),\n",
       " (2, 500000, 1, 200, 32, 0.99, 0.001, 100000, 64, 100, 3, 3),\n",
       " (2, 500000, 1, 200, 32, 0.99, 0.001, 100000, 128, 100, 3, 3),\n",
       " (2, 500000, 1, 200, 32, 0.99, 0.001, 100000, 512, 100, 3, 3),\n",
       " (2, 500000, 1, 200, 200, 0.99, 0.001, 100000, 64, 100, 3, 3),\n",
       " (2, 500000, 1, 200, 200, 0.99, 0.001, 100000, 128, 100, 3, 3),\n",
       " (2, 500000, 1, 200, 200, 0.99, 0.001, 100000, 512, 100, 3, 3),\n",
       " (2, 500000, 3, 16, 32, 0.99, 0.001, 100000, 64, 100, 3, 3),\n",
       " (2, 500000, 3, 16, 32, 0.99, 0.001, 100000, 128, 100, 3, 3),\n",
       " (2, 500000, 3, 16, 32, 0.99, 0.001, 100000, 512, 100, 3, 3),\n",
       " (2, 500000, 3, 16, 200, 0.99, 0.001, 100000, 64, 100, 3, 3),\n",
       " (2, 500000, 3, 16, 200, 0.99, 0.001, 100000, 128, 100, 3, 3),\n",
       " (2, 500000, 3, 16, 200, 0.99, 0.001, 100000, 512, 100, 3, 3),\n",
       " (2, 500000, 3, 200, 32, 0.99, 0.001, 100000, 64, 100, 3, 3),\n",
       " (2, 500000, 3, 200, 32, 0.99, 0.001, 100000, 128, 100, 3, 3),\n",
       " (2, 500000, 3, 200, 32, 0.99, 0.001, 100000, 512, 100, 3, 3),\n",
       " (2, 500000, 3, 200, 200, 0.99, 0.001, 100000, 64, 100, 3, 3),\n",
       " (2, 500000, 3, 200, 200, 0.99, 0.001, 100000, 128, 100, 3, 3),\n",
       " (2, 500000, 3, 200, 200, 0.99, 0.001, 100000, 512, 100, 3, 3),\n",
       " (2, 500000, 5, 16, 32, 0.99, 0.001, 100000, 64, 100, 3, 3),\n",
       " (2, 500000, 5, 16, 32, 0.99, 0.001, 100000, 128, 100, 3, 3),\n",
       " (2, 500000, 5, 16, 32, 0.99, 0.001, 100000, 512, 100, 3, 3),\n",
       " (2, 500000, 5, 16, 200, 0.99, 0.001, 100000, 64, 100, 3, 3),\n",
       " (2, 500000, 5, 16, 200, 0.99, 0.001, 100000, 128, 100, 3, 3),\n",
       " (2, 500000, 5, 16, 200, 0.99, 0.001, 100000, 512, 100, 3, 3),\n",
       " (2, 500000, 5, 200, 32, 0.99, 0.001, 100000, 64, 100, 3, 3),\n",
       " (2, 500000, 5, 200, 32, 0.99, 0.001, 100000, 128, 100, 3, 3),\n",
       " (2, 500000, 5, 200, 32, 0.99, 0.001, 100000, 512, 100, 3, 3),\n",
       " (2, 500000, 5, 200, 200, 0.99, 0.001, 100000, 64, 100, 3, 3),\n",
       " (2, 500000, 5, 200, 200, 0.99, 0.001, 100000, 128, 100, 3, 3),\n",
       " (2, 500000, 5, 200, 200, 0.99, 0.001, 100000, 512, 100, 3, 3)]"
      ]
     },
     "execution_count": 4,
     "metadata": {},
     "output_type": "execute_result"
    }
   ],
   "source": [
    "l"
   ]
  },
  {
   "cell_type": "code",
   "execution_count": 11,
   "metadata": {
    "collapsed": true
   },
   "outputs": [],
   "source": [
    "l  = [t for t in l if t[3] == 16 and t[4] == 32 or t[3] == 200 and t[4] == 200]"
   ]
  },
  {
   "cell_type": "code",
   "execution_count": 12,
   "metadata": {},
   "outputs": [
    {
     "data": {
      "text/plain": [
       "[(0, 100000, 1, 16, 32, 0.99, 0.001, 100000, 64, 100, 3, 3),\n",
       " (0, 100000, 1, 16, 32, 0.99, 0.001, 100000, 128, 100, 3, 3),\n",
       " (0, 100000, 1, 16, 32, 0.99, 0.001, 100000, 512, 100, 3, 3),\n",
       " (0, 100000, 1, 200, 200, 0.99, 0.001, 100000, 64, 100, 3, 3),\n",
       " (0, 100000, 1, 200, 200, 0.99, 0.001, 100000, 128, 100, 3, 3),\n",
       " (0, 100000, 1, 200, 200, 0.99, 0.001, 100000, 512, 100, 3, 3),\n",
       " (0, 100000, 3, 16, 32, 0.99, 0.001, 100000, 64, 100, 3, 3),\n",
       " (0, 100000, 3, 16, 32, 0.99, 0.001, 100000, 128, 100, 3, 3),\n",
       " (0, 100000, 3, 16, 32, 0.99, 0.001, 100000, 512, 100, 3, 3),\n",
       " (0, 100000, 3, 200, 200, 0.99, 0.001, 100000, 64, 100, 3, 3),\n",
       " (0, 100000, 3, 200, 200, 0.99, 0.001, 100000, 128, 100, 3, 3),\n",
       " (0, 100000, 3, 200, 200, 0.99, 0.001, 100000, 512, 100, 3, 3),\n",
       " (0, 100000, 5, 16, 32, 0.99, 0.001, 100000, 64, 100, 3, 3),\n",
       " (0, 100000, 5, 16, 32, 0.99, 0.001, 100000, 128, 100, 3, 3),\n",
       " (0, 100000, 5, 16, 32, 0.99, 0.001, 100000, 512, 100, 3, 3),\n",
       " (0, 100000, 5, 200, 200, 0.99, 0.001, 100000, 64, 100, 3, 3),\n",
       " (0, 100000, 5, 200, 200, 0.99, 0.001, 100000, 128, 100, 3, 3),\n",
       " (0, 100000, 5, 200, 200, 0.99, 0.001, 100000, 512, 100, 3, 3),\n",
       " (0, 500000, 1, 16, 32, 0.99, 0.001, 100000, 64, 100, 3, 3),\n",
       " (0, 500000, 1, 16, 32, 0.99, 0.001, 100000, 128, 100, 3, 3),\n",
       " (0, 500000, 1, 16, 32, 0.99, 0.001, 100000, 512, 100, 3, 3),\n",
       " (0, 500000, 1, 200, 200, 0.99, 0.001, 100000, 64, 100, 3, 3),\n",
       " (0, 500000, 1, 200, 200, 0.99, 0.001, 100000, 128, 100, 3, 3),\n",
       " (0, 500000, 1, 200, 200, 0.99, 0.001, 100000, 512, 100, 3, 3),\n",
       " (0, 500000, 3, 16, 32, 0.99, 0.001, 100000, 64, 100, 3, 3),\n",
       " (0, 500000, 3, 16, 32, 0.99, 0.001, 100000, 128, 100, 3, 3),\n",
       " (0, 500000, 3, 16, 32, 0.99, 0.001, 100000, 512, 100, 3, 3),\n",
       " (0, 500000, 3, 200, 200, 0.99, 0.001, 100000, 64, 100, 3, 3),\n",
       " (0, 500000, 3, 200, 200, 0.99, 0.001, 100000, 128, 100, 3, 3),\n",
       " (0, 500000, 3, 200, 200, 0.99, 0.001, 100000, 512, 100, 3, 3),\n",
       " (0, 500000, 5, 16, 32, 0.99, 0.001, 100000, 64, 100, 3, 3),\n",
       " (0, 500000, 5, 16, 32, 0.99, 0.001, 100000, 128, 100, 3, 3),\n",
       " (0, 500000, 5, 16, 32, 0.99, 0.001, 100000, 512, 100, 3, 3),\n",
       " (0, 500000, 5, 200, 200, 0.99, 0.001, 100000, 64, 100, 3, 3),\n",
       " (0, 500000, 5, 200, 200, 0.99, 0.001, 100000, 128, 100, 3, 3),\n",
       " (0, 500000, 5, 200, 200, 0.99, 0.001, 100000, 512, 100, 3, 3),\n",
       " (1, 100000, 1, 16, 32, 0.99, 0.001, 100000, 64, 100, 3, 3),\n",
       " (1, 100000, 1, 16, 32, 0.99, 0.001, 100000, 128, 100, 3, 3),\n",
       " (1, 100000, 1, 16, 32, 0.99, 0.001, 100000, 512, 100, 3, 3),\n",
       " (1, 100000, 1, 200, 200, 0.99, 0.001, 100000, 64, 100, 3, 3),\n",
       " (1, 100000, 1, 200, 200, 0.99, 0.001, 100000, 128, 100, 3, 3),\n",
       " (1, 100000, 1, 200, 200, 0.99, 0.001, 100000, 512, 100, 3, 3),\n",
       " (1, 100000, 3, 16, 32, 0.99, 0.001, 100000, 64, 100, 3, 3),\n",
       " (1, 100000, 3, 16, 32, 0.99, 0.001, 100000, 128, 100, 3, 3),\n",
       " (1, 100000, 3, 16, 32, 0.99, 0.001, 100000, 512, 100, 3, 3),\n",
       " (1, 100000, 3, 200, 200, 0.99, 0.001, 100000, 64, 100, 3, 3),\n",
       " (1, 100000, 3, 200, 200, 0.99, 0.001, 100000, 128, 100, 3, 3),\n",
       " (1, 100000, 3, 200, 200, 0.99, 0.001, 100000, 512, 100, 3, 3),\n",
       " (1, 100000, 5, 16, 32, 0.99, 0.001, 100000, 64, 100, 3, 3),\n",
       " (1, 100000, 5, 16, 32, 0.99, 0.001, 100000, 128, 100, 3, 3),\n",
       " (1, 100000, 5, 16, 32, 0.99, 0.001, 100000, 512, 100, 3, 3),\n",
       " (1, 100000, 5, 200, 200, 0.99, 0.001, 100000, 64, 100, 3, 3),\n",
       " (1, 100000, 5, 200, 200, 0.99, 0.001, 100000, 128, 100, 3, 3),\n",
       " (1, 100000, 5, 200, 200, 0.99, 0.001, 100000, 512, 100, 3, 3),\n",
       " (1, 500000, 1, 16, 32, 0.99, 0.001, 100000, 64, 100, 3, 3),\n",
       " (1, 500000, 1, 16, 32, 0.99, 0.001, 100000, 128, 100, 3, 3),\n",
       " (1, 500000, 1, 16, 32, 0.99, 0.001, 100000, 512, 100, 3, 3),\n",
       " (1, 500000, 1, 200, 200, 0.99, 0.001, 100000, 64, 100, 3, 3),\n",
       " (1, 500000, 1, 200, 200, 0.99, 0.001, 100000, 128, 100, 3, 3),\n",
       " (1, 500000, 1, 200, 200, 0.99, 0.001, 100000, 512, 100, 3, 3),\n",
       " (1, 500000, 3, 16, 32, 0.99, 0.001, 100000, 64, 100, 3, 3),\n",
       " (1, 500000, 3, 16, 32, 0.99, 0.001, 100000, 128, 100, 3, 3),\n",
       " (1, 500000, 3, 16, 32, 0.99, 0.001, 100000, 512, 100, 3, 3),\n",
       " (1, 500000, 3, 200, 200, 0.99, 0.001, 100000, 64, 100, 3, 3),\n",
       " (1, 500000, 3, 200, 200, 0.99, 0.001, 100000, 128, 100, 3, 3),\n",
       " (1, 500000, 3, 200, 200, 0.99, 0.001, 100000, 512, 100, 3, 3),\n",
       " (1, 500000, 5, 16, 32, 0.99, 0.001, 100000, 64, 100, 3, 3),\n",
       " (1, 500000, 5, 16, 32, 0.99, 0.001, 100000, 128, 100, 3, 3),\n",
       " (1, 500000, 5, 16, 32, 0.99, 0.001, 100000, 512, 100, 3, 3),\n",
       " (1, 500000, 5, 200, 200, 0.99, 0.001, 100000, 64, 100, 3, 3),\n",
       " (1, 500000, 5, 200, 200, 0.99, 0.001, 100000, 128, 100, 3, 3),\n",
       " (1, 500000, 5, 200, 200, 0.99, 0.001, 100000, 512, 100, 3, 3),\n",
       " (2, 100000, 1, 16, 32, 0.99, 0.001, 100000, 64, 100, 3, 3),\n",
       " (2, 100000, 1, 16, 32, 0.99, 0.001, 100000, 128, 100, 3, 3),\n",
       " (2, 100000, 1, 16, 32, 0.99, 0.001, 100000, 512, 100, 3, 3),\n",
       " (2, 100000, 1, 200, 200, 0.99, 0.001, 100000, 64, 100, 3, 3),\n",
       " (2, 100000, 1, 200, 200, 0.99, 0.001, 100000, 128, 100, 3, 3),\n",
       " (2, 100000, 1, 200, 200, 0.99, 0.001, 100000, 512, 100, 3, 3),\n",
       " (2, 100000, 3, 16, 32, 0.99, 0.001, 100000, 64, 100, 3, 3),\n",
       " (2, 100000, 3, 16, 32, 0.99, 0.001, 100000, 128, 100, 3, 3),\n",
       " (2, 100000, 3, 16, 32, 0.99, 0.001, 100000, 512, 100, 3, 3),\n",
       " (2, 100000, 3, 200, 200, 0.99, 0.001, 100000, 64, 100, 3, 3),\n",
       " (2, 100000, 3, 200, 200, 0.99, 0.001, 100000, 128, 100, 3, 3),\n",
       " (2, 100000, 3, 200, 200, 0.99, 0.001, 100000, 512, 100, 3, 3),\n",
       " (2, 100000, 5, 16, 32, 0.99, 0.001, 100000, 64, 100, 3, 3),\n",
       " (2, 100000, 5, 16, 32, 0.99, 0.001, 100000, 128, 100, 3, 3),\n",
       " (2, 100000, 5, 16, 32, 0.99, 0.001, 100000, 512, 100, 3, 3),\n",
       " (2, 100000, 5, 200, 200, 0.99, 0.001, 100000, 64, 100, 3, 3),\n",
       " (2, 100000, 5, 200, 200, 0.99, 0.001, 100000, 128, 100, 3, 3),\n",
       " (2, 100000, 5, 200, 200, 0.99, 0.001, 100000, 512, 100, 3, 3),\n",
       " (2, 500000, 1, 16, 32, 0.99, 0.001, 100000, 64, 100, 3, 3),\n",
       " (2, 500000, 1, 16, 32, 0.99, 0.001, 100000, 128, 100, 3, 3),\n",
       " (2, 500000, 1, 16, 32, 0.99, 0.001, 100000, 512, 100, 3, 3),\n",
       " (2, 500000, 1, 200, 200, 0.99, 0.001, 100000, 64, 100, 3, 3),\n",
       " (2, 500000, 1, 200, 200, 0.99, 0.001, 100000, 128, 100, 3, 3),\n",
       " (2, 500000, 1, 200, 200, 0.99, 0.001, 100000, 512, 100, 3, 3),\n",
       " (2, 500000, 3, 16, 32, 0.99, 0.001, 100000, 64, 100, 3, 3),\n",
       " (2, 500000, 3, 16, 32, 0.99, 0.001, 100000, 128, 100, 3, 3),\n",
       " (2, 500000, 3, 16, 32, 0.99, 0.001, 100000, 512, 100, 3, 3),\n",
       " (2, 500000, 3, 200, 200, 0.99, 0.001, 100000, 64, 100, 3, 3),\n",
       " (2, 500000, 3, 200, 200, 0.99, 0.001, 100000, 128, 100, 3, 3),\n",
       " (2, 500000, 3, 200, 200, 0.99, 0.001, 100000, 512, 100, 3, 3),\n",
       " (2, 500000, 5, 16, 32, 0.99, 0.001, 100000, 64, 100, 3, 3),\n",
       " (2, 500000, 5, 16, 32, 0.99, 0.001, 100000, 128, 100, 3, 3),\n",
       " (2, 500000, 5, 16, 32, 0.99, 0.001, 100000, 512, 100, 3, 3),\n",
       " (2, 500000, 5, 200, 200, 0.99, 0.001, 100000, 64, 100, 3, 3),\n",
       " (2, 500000, 5, 200, 200, 0.99, 0.001, 100000, 128, 100, 3, 3),\n",
       " (2, 500000, 5, 200, 200, 0.99, 0.001, 100000, 512, 100, 3, 3)]"
      ]
     },
     "execution_count": 12,
     "metadata": {},
     "output_type": "execute_result"
    }
   ],
   "source": [
    "l"
   ]
  },
  {
   "cell_type": "code",
   "execution_count": 14,
   "metadata": {},
   "outputs": [
    {
     "name": "stdout",
     "output_type": "stream",
     "text": [
      "[[1 2 3]\n",
      " [4 5 6]\n",
      " [7 8 9]]\n"
     ]
    }
   ],
   "source": [
    "import numpy as np\n",
    "\n",
    "a = np.array([[1,2,3],[4,5,6],[7,8,9]])\n",
    "print(a)\n"
   ]
  },
  {
   "cell_type": "code",
   "execution_count": 15,
   "metadata": {},
   "outputs": [
    {
     "data": {
      "text/plain": [
       "(3, 3)"
      ]
     },
     "execution_count": 15,
     "metadata": {},
     "output_type": "execute_result"
    }
   ],
   "source": [
    "a.shape"
   ]
  },
  {
   "cell_type": "code",
   "execution_count": null,
   "metadata": {
    "collapsed": true
   },
   "outputs": [],
   "source": []
  },
  {
   "cell_type": "code",
   "execution_count": 16,
   "metadata": {},
   "outputs": [
    {
     "name": "stdout",
     "output_type": "stream",
     "text": [
      "2\n",
      "3\n",
      "6\n"
     ]
    }
   ],
   "source": [
    "l, c = a.shape\n",
    "for i in range(l):\n",
    "    for j in range(c):\n",
    "        if i < j:\n",
    "            print a[i,j]"
   ]
  },
  {
   "cell_type": "code",
   "execution_count": 22,
   "metadata": {},
   "outputs": [
    {
     "data": {
      "text/plain": [
       "90"
      ]
     },
     "execution_count": 22,
     "metadata": {},
     "output_type": "execute_result"
    }
   ],
   "source": [
    "range(-90, 100, 45)[4]"
   ]
  },
  {
   "cell_type": "code",
   "execution_count": 18,
   "metadata": {},
   "outputs": [
    {
     "data": {
      "text/plain": [
       "[0.0, 0.25, 0.5, 0.75, 1.0]"
      ]
     },
     "execution_count": 18,
     "metadata": {},
     "output_type": "execute_result"
    }
   ],
   "source": [
    "[x / 100.0 for x in range(0, 101, 25)]"
   ]
  },
  {
   "cell_type": "code",
   "execution_count": 31,
   "metadata": {},
   "outputs": [
    {
     "data": {
      "text/plain": [
       "'4'"
      ]
     },
     "execution_count": 31,
     "metadata": {},
     "output_type": "execute_result"
    }
   ],
   "source": [
    "np.base_repr(24, base=5).zfill(2)[1]"
   ]
  },
  {
   "cell_type": "code",
   "execution_count": 5,
   "metadata": {},
   "outputs": [
    {
     "name": "stdout",
     "output_type": "stream",
     "text": [
      "\"#41b0f4\"\n"
     ]
    }
   ],
   "source": [
    "print '\"#42b0f4\"'.replace(\"2\", str(1))"
   ]
  },
  {
   "cell_type": "code",
   "execution_count": 7,
   "metadata": {},
   "outputs": [
    {
     "data": {
      "image/png": "[encoded data removed]",
      "text/plain": [
       "<matplotlib.figure.Figure at 0x7f70e33585d0>"
      ]
     },
     "metadata": {},
     "output_type": "display_data"
    }
   ],
   "source": [
    "import matplotlib.pyplot as plt\n",
    "\n",
    "plt.plot([0, 1],\n",
    "         [0, 2], \"-b\")\n",
    "plt.show()"
   ]
  },
  {
   "cell_type": "code",
   "execution_count": 1,
   "metadata": {},
   "outputs": [
    {
     "ename": "ImportError",
     "evalue": "cannot import name imsave",
     "output_type": "error",
     "traceback": [
      "\u001b[0;31m---------------------------------------------------------------------------\u001b[0m",
      "\u001b[0;31mImportError\u001b[0m                               Traceback (most recent call last)",
      "\u001b[0;32m<ipython-input-1-47f5ac56b522>\u001b[0m in \u001b[0;36m<module>\u001b[0;34m()\u001b[0m\n\u001b[1;32m      1\u001b[0m \u001b[0;32mimport\u001b[0m \u001b[0mnumpy\u001b[0m \u001b[0;32mas\u001b[0m \u001b[0mnp\u001b[0m\u001b[0;34m\u001b[0m\u001b[0m\n\u001b[0;32m----> 2\u001b[0;31m \u001b[0;32mfrom\u001b[0m \u001b[0mscipy\u001b[0m \u001b[0;32mimport\u001b[0m \u001b[0mimsave\u001b[0m\u001b[0;34m\u001b[0m\u001b[0m\n\u001b[0m\u001b[1;32m      3\u001b[0m \u001b[0mx\u001b[0m \u001b[0;34m=\u001b[0m \u001b[0mnp\u001b[0m\u001b[0;34m.\u001b[0m\u001b[0mzeros\u001b[0m\u001b[0;34m(\u001b[0m\u001b[0;34m(\u001b[0m\u001b[0;36m255\u001b[0m\u001b[0;34m,\u001b[0m \u001b[0;36m255\u001b[0m\u001b[0;34m)\u001b[0m\u001b[0;34m)\u001b[0m\u001b[0;34m\u001b[0m\u001b[0m\n\u001b[1;32m      4\u001b[0m \u001b[0mx\u001b[0m \u001b[0;34m=\u001b[0m \u001b[0mnp\u001b[0m\u001b[0;34m.\u001b[0m\u001b[0mzeros\u001b[0m\u001b[0;34m(\u001b[0m\u001b[0;34m(\u001b[0m\u001b[0;36m255\u001b[0m\u001b[0;34m,\u001b[0m \u001b[0;36m255\u001b[0m\u001b[0;34m)\u001b[0m\u001b[0;34m,\u001b[0m \u001b[0mdtype\u001b[0m\u001b[0;34m=\u001b[0m\u001b[0mnp\u001b[0m\u001b[0;34m.\u001b[0m\u001b[0muint8\u001b[0m\u001b[0;34m)\u001b[0m\u001b[0;34m\u001b[0m\u001b[0m\n\u001b[1;32m      5\u001b[0m \u001b[0mx\u001b[0m\u001b[0;34m[\u001b[0m\u001b[0;34m:\u001b[0m\u001b[0;34m]\u001b[0m \u001b[0;34m=\u001b[0m \u001b[0mnp\u001b[0m\u001b[0;34m.\u001b[0m\u001b[0marange\u001b[0m\u001b[0;34m(\u001b[0m\u001b[0;36m255\u001b[0m\u001b[0;34m)\u001b[0m\u001b[0;34m\u001b[0m\u001b[0m\n",
      "\u001b[0;31mImportError\u001b[0m: cannot import name imsave"
     ]
    }
   ],
   "source": [
    "import numpy as np\n",
    "from scipy import imsave\n",
    "x = np.zeros((255, 255))\n",
    "x = np.zeros((255, 255), dtype=np.uint8)\n",
    "x[:] = np.arange(255)\n",
    "imsave('/tmp/gradient.png', x)"
   ]
  },
  {
   "cell_type": "code",
   "execution_count": 1,
   "metadata": {},
   "outputs": [
    {
     "name": "stdout",
     "output_type": "stream",
     "text": [
      "0\n",
      "1\n",
      "2\n"
     ]
    }
   ],
   "source": [
    "r = [1,2,3,4]\n",
    "for i, e in enumerate(r[1:]):\n",
    "    print i"
   ]
  },
  {
   "cell_type": "code",
   "execution_count": 43,
   "metadata": {
    "collapsed": true
   },
   "outputs": [],
   "source": [
    "import numpy as np\n",
    "positions = np.array([[1, 1], [0, 0]])\n",
    "fishPos = positions[0]\n",
    "width = 40\n",
    "height = width\n",
    "fish = 2\n",
    "distances = np.empty((0, fish))"
   ]
  },
  {
   "cell_type": "code",
   "execution_count": 44,
   "metadata": {
    "collapsed": true
   },
   "outputs": [],
   "source": [
    "absXY = np.absolute(positions - fishPos)\n",
    "absX = absXY[:,0]\n",
    "absY = absXY[:,1]\n",
    "diffAroundX = width - absX\n",
    "diffAroundY = height - absY\n",
    "\n",
    "# determine the nearest fish (also around the edges of the playing field\n",
    "dist = np.sqrt(np.square(np.minimum(absX, diffAroundX)) + np.square(np.minimum(absY, diffAroundY)))\n",
    "distances = np.append(distances, [dist], axis = 0)\n",
    "\n",
    "# booleans for each fish if it is shorter to go direcly or over the edge in x- or y-direction \n",
    "aroundX = (diffAroundX < absX)\n",
    "aroundY = (diffAroundY < absY)"
   ]
  },
  {
   "cell_type": "code",
   "execution_count": 45,
   "metadata": {},
   "outputs": [
    {
     "data": {
      "text/plain": [
       "array([1, 1])"
      ]
     },
     "execution_count": 45,
     "metadata": {},
     "output_type": "execute_result"
    }
   ],
   "source": [
    "fishPos"
   ]
  },
  {
   "cell_type": "code",
   "execution_count": 46,
   "metadata": {},
   "outputs": [
    {
     "data": {
      "text/plain": [
       "array([[0, 0],\n",
       "       [0, 0]])"
      ]
     },
     "execution_count": 46,
     "metadata": {},
     "output_type": "execute_result"
    }
   ],
   "source": [
    "np.array([width * aroundX, height * aroundY])"
   ]
  },
  {
   "cell_type": "code",
   "execution_count": 47,
   "metadata": {
    "collapsed": true
   },
   "outputs": [],
   "source": [
    "rightBelow = positions + np.array([width * aroundX, height * aroundY]).reshape(fish,2)\n",
    "leftTop = positions - np.array([width * aroundX, height * aroundY]).reshape(fish,2)"
   ]
  },
  {
   "cell_type": "code",
   "execution_count": 48,
   "metadata": {},
   "outputs": [
    {
     "data": {
      "text/plain": [
       "array([[[1, 1],\n",
       "        [1, 1]],\n",
       "\n",
       "       [[0, 0],\n",
       "        [0, 0]]])"
      ]
     },
     "execution_count": 48,
     "metadata": {},
     "output_type": "execute_result"
    }
   ],
   "source": [
    "np.hstack((rightBelow, leftTop)).reshape(fish,2,2)"
   ]
  },
  {
   "cell_type": "code",
   "execution_count": 49,
   "metadata": {},
   "outputs": [
    {
     "data": {
      "text/plain": [
       "array([[[ 0,  0],\n",
       "        [ 0,  0]],\n",
       "\n",
       "       [[-1, -1],\n",
       "        [-1, -1]]])"
      ]
     },
     "execution_count": 49,
     "metadata": {},
     "output_type": "execute_result"
    }
   ],
   "source": [
    "np.hstack((rightBelow, leftTop)).reshape(fish,2,2) - fishPos"
   ]
  },
  {
   "cell_type": "code",
   "execution_count": 50,
   "metadata": {},
   "outputs": [
    {
     "data": {
      "text/plain": [
       "array([[ 0.        ,  0.        ],\n",
       "       [ 1.41421356,  1.41421356]])"
      ]
     },
     "execution_count": 50,
     "metadata": {},
     "output_type": "execute_result"
    }
   ],
   "source": [
    "np.linalg.norm(np.hstack((rightBelow, leftTop)).reshape(fish,2,2) - fishPos, axis=  2)"
   ]
  },
  {
   "cell_type": "code",
   "execution_count": 51,
   "metadata": {
    "collapsed": true
   },
   "outputs": [],
   "source": [
    "idxsOfSmallestDistance = np.argmin(np.linalg.norm(np.hstack((rightBelow, leftTop)).reshape(fish,2,2) - fishPos, axis = 2), axis = 1)"
   ]
  },
  {
   "cell_type": "code",
   "execution_count": 52,
   "metadata": {
    "collapsed": true
   },
   "outputs": [],
   "source": [
    "dir = np.hstack((rightBelow, leftTop)).reshape(fish,2,2)"
   ]
  },
  {
   "cell_type": "code",
   "execution_count": 53,
   "metadata": {},
   "outputs": [
    {
     "data": {
      "text/plain": [
       "array([0, 0])"
      ]
     },
     "execution_count": 53,
     "metadata": {},
     "output_type": "execute_result"
    }
   ],
   "source": [
    "idxsOfSmallestDistance"
   ]
  },
  {
   "cell_type": "code",
   "execution_count": 54,
   "metadata": {},
   "outputs": [
    {
     "data": {
      "text/plain": [
       "array([[1, 1],\n",
       "       [0, 0]])"
      ]
     },
     "execution_count": 54,
     "metadata": {},
     "output_type": "execute_result"
    }
   ],
   "source": [
    "dir[range(len(idxsOfSmallestDistance)),idxsOfSmallestDistance,:]"
   ]
  },
  {
   "cell_type": "code",
   "execution_count": 55,
   "metadata": {
    "collapsed": true
   },
   "outputs": [],
   "source": [
    "diffVectors = dir[range(len(idxsOfSmallestDistance)),idxsOfSmallestDistance,:] - fishPos"
   ]
  },
  {
   "cell_type": "code",
   "execution_count": 56,
   "metadata": {},
   "outputs": [
    {
     "data": {
      "text/plain": [
       "array([[ 0,  0],\n",
       "       [-1, -1]])"
      ]
     },
     "execution_count": 56,
     "metadata": {},
     "output_type": "execute_result"
    }
   ],
   "source": [
    "diffVectors"
   ]
  },
  {
   "cell_type": "code",
   "execution_count": 57,
   "metadata": {},
   "outputs": [
    {
     "data": {
      "text/plain": [
       "array([   0.,  180.])"
      ]
     },
     "execution_count": 57,
     "metadata": {},
     "output_type": "execute_result"
    }
   ],
   "source": [
    "cos = np.dot(diffVectors, fishPos)\n",
    "sin = np.cross(diffVectors, fishPos)\n",
    "atan2 = np.arctan2(sin, cos)\n",
    "np.degrees(atan2)"
   ]
  },
  {
   "cell_type": "code",
   "execution_count": 164,
   "metadata": {},
   "outputs": [
    {
     "name": "stdout",
     "output_type": "stream",
     "text": [
      "[   0.  135.  180.]\n",
      "[-45.   0. -90.]\n",
      "[  0.  90.   0.]\n",
      "[[   0.  135.  180.]\n",
      " [ -45.    0.  -90.]\n",
      " [   0.   90.    0.]]\n"
     ]
    }
   ],
   "source": [
    "fish = 3\n",
    "distances = np.empty((0, fish))\n",
    "directionAngles = np.empty((0, fish))\n",
    "positions = np.array([[1, 0], [0, 1], [0, 0]])\n",
    "angles = np.array([[90.0], [185.0], [0.0]])\n",
    "for fishPos in positions:\n",
    "    absXY = np.absolute(positions - fishPos)\n",
    "    absX = absXY[:,0]\n",
    "    absY = absXY[:,1]\n",
    "\n",
    "    diffAroundX = 40 - absX\n",
    "    diffAroundY = 40 - absY\n",
    "\n",
    "    # determine the nearest fish (also around the edges of the playing field\n",
    "    dist = np.sqrt(np.square(np.minimum(absX, diffAroundX)) + np.square(np.minimum(absY, diffAroundY)))\n",
    "    distances = np.append(distances, [dist], axis = 0)\n",
    "\n",
    "    # booleans for each fish if it is shorter to go direcly or over the edge in x- or y-direction \n",
    "    aroundX = (diffAroundX < absX)\n",
    "    aroundY = (diffAroundY < absY)\n",
    "\n",
    "    rightBelow = positions + np.array([width * aroundX, height * aroundY]).reshape(fish, 2)\n",
    "    leftTop = positions - np.array([width * aroundX, height * aroundY]).reshape(fish, 2)\n",
    "\n",
    "    dir = np.hstack((rightBelow, leftTop)).reshape(fish, 2, 2)\n",
    "\n",
    "    idxsOfSmallestDistance = np.argmin(np.linalg.norm(dir - fishPos, axis = 2), axis = 1)\n",
    "    diffVectors = dir[range(len(idxsOfSmallestDistance)),idxsOfSmallestDistance,:] - fishPos\n",
    "    #print(diffVectors)\n",
    "    \n",
    "    cos = np.dot([1,0], np.transpose(diffVectors))\n",
    "    sin = np.cross([1,0], np.transpose(diffVectors), axis = 0)\n",
    "    atan2 = np.arctan2(sin, cos)\n",
    "    dirAngles = np.degrees(atan2)\n",
    "    \n",
    "    print(dirAngles)\n",
    "\n",
    "    directionAngles = np.append(directionAngles, [dirAngles], axis = 0)\n",
    "np.fill_diagonal(directionAngles, 0.0)\n",
    "print(directionAngles)"
   ]
  },
  {
   "cell_type": "code",
   "execution_count": 154,
   "metadata": {},
   "outputs": [
    {
     "name": "stdout",
     "output_type": "stream",
     "text": [
      "0\n",
      "0\n",
      "0.0\n",
      "-12\n",
      "-6\n",
      "-153.434948823\n",
      "()\n",
      "[  0 -12]\n",
      "[ 0 -6]\n"
     ]
    },
    {
     "data": {
      "text/plain": [
       "array([   0.        , -153.43494882])"
      ]
     },
     "execution_count": 154,
     "metadata": {},
     "output_type": "execute_result"
    }
   ],
   "source": [
    "diffVectors = np.array([[  0 ,  0], [-12,  -6]])\n",
    "for vec in diffVectors:\n",
    "    print(getAngle([1,0], vec))\n",
    "\n",
    "print()\n",
    "cos = np.dot([1,0], np.transpose(diffVectors))\n",
    "print(cos)\n",
    "sin = np.cross([1,0], np.transpose(diffVectors), axis = 0)\n",
    "print(sin)\n",
    "atan2 = np.arctan2(sin, cos)\n",
    "np.degrees(atan2)"
   ]
  },
  {
   "cell_type": "code",
   "execution_count": 144,
   "metadata": {
    "collapsed": true
   },
   "outputs": [],
   "source": [
    "import math\n",
    "def getAngle(vector1, vector2):\n",
    "    \"\"\"Returns the angle between two vectors in range -180 ... 180 degree\"\"\"\n",
    "#    cos = vector1[0] * vector2[0] + vector1[1] * vector2[1]\n",
    "#    sin = vector1[0] * vector2[1] - vector1[1] * vector2[0]\n",
    "#    atan2 = np.arctan2(sin, cos)\n",
    "#    degree = math.degrees(atan2)\n",
    "    \n",
    "    cos = np.dot(vector1, vector2)\n",
    "    print(cos)\n",
    "    sin = np.cross(vector1, vector2)\n",
    "    print(sin)\n",
    "    atan2 = np.arctan2(sin, cos)\n",
    "    d = math.degrees(atan2)\n",
    "\n",
    "    return d"
   ]
  },
  {
   "cell_type": "code",
   "execution_count": null,
   "metadata": {
    "collapsed": true
   },
   "outputs": [],
   "source": []
  },
  {
   "cell_type": "code",
   "execution_count": null,
   "metadata": {
    "collapsed": true
   },
   "outputs": [],
   "source": []
  },
  {
   "cell_type": "code",
   "execution_count": 88,
   "metadata": {},
   "outputs": [
    {
     "name": "stdout",
     "output_type": "stream",
     "text": [
      "(26.56505117707799, 26.56505117707799)\n",
      "(0.0, 0.0)\n"
     ]
    }
   ],
   "source": [
    "for vec in diffVectors:\n",
    "    print(getAngle([1,0], vec))"
   ]
  },
  {
   "cell_type": "code",
   "execution_count": 112,
   "metadata": {},
   "outputs": [
    {
     "data": {
      "text/plain": [
       "(-153.434948822922, -153.434948822922)"
      ]
     },
     "execution_count": 112,
     "metadata": {},
     "output_type": "execute_result"
    }
   ],
   "source": [
    "vec1 = [1, 0]\n",
    "vec2 = [-12, -6]\n",
    "getAngle(np.array(vec1),np.array(vec2))"
   ]
  },
  {
   "cell_type": "code",
   "execution_count": 2,
   "metadata": {},
   "outputs": [
    {
     "ename": "NameError",
     "evalue": "name 'self' is not defined",
     "output_type": "error",
     "traceback": [
      "\u001b[0;31m---------------------------------------------------------------------------\u001b[0m",
      "\u001b[0;31mNameError\u001b[0m                                 Traceback (most recent call last)",
      "\u001b[0;32m<ipython-input-2-07600928cbe5>\u001b[0m in \u001b[0;36m<module>\u001b[0;34m()\u001b[0m\n\u001b[1;32m      2\u001b[0m \u001b[0mfishPositions\u001b[0m \u001b[0;34m=\u001b[0m \u001b[0mnp\u001b[0m\u001b[0;34m.\u001b[0m\u001b[0marray\u001b[0m\u001b[0;34m(\u001b[0m\u001b[0;34m[\u001b[0m\u001b[0;34m(\u001b[0m\u001b[0;36m1.7921763131336303\u001b[0m\u001b[0;34m,\u001b[0m \u001b[0;36m32.285488128155166\u001b[0m\u001b[0;34m)\u001b[0m\u001b[0;34m]\u001b[0m\u001b[0;34m)\u001b[0m\u001b[0;34m\u001b[0m\u001b[0m\n\u001b[1;32m      3\u001b[0m \u001b[0msharkPositions\u001b[0m \u001b[0;34m=\u001b[0m  \u001b[0mnp\u001b[0m\u001b[0;34m.\u001b[0m\u001b[0marray\u001b[0m\u001b[0;34m(\u001b[0m\u001b[0;34m[\u001b[0m \u001b[0;36m1.1711786\u001b[0m\u001b[0;34m,\u001b[0m  \u001b[0;36m26.3831495\u001b[0m \u001b[0;34m]\u001b[0m\u001b[0;34m)\u001b[0m\u001b[0;34m\u001b[0m\u001b[0m\n\u001b[0;32m----> 4\u001b[0;31m \u001b[0mdistances\u001b[0m \u001b[0;34m=\u001b[0m \u001b[0mnp\u001b[0m\u001b[0;34m.\u001b[0m\u001b[0mempty\u001b[0m\u001b[0;34m(\u001b[0m\u001b[0;34m(\u001b[0m\u001b[0;36m0\u001b[0m\u001b[0;34m,\u001b[0m \u001b[0mself\u001b[0m\u001b[0;34m.\u001b[0m\u001b[0mfish\u001b[0m \u001b[0;34m+\u001b[0m  \u001b[0mself\u001b[0m\u001b[0;34m.\u001b[0m\u001b[0mshark\u001b[0m\u001b[0;34m)\u001b[0m\u001b[0;34m)\u001b[0m\u001b[0;34m\u001b[0m\u001b[0m\n\u001b[0m\u001b[1;32m      5\u001b[0m \u001b[0mdirectionAngles\u001b[0m \u001b[0;34m=\u001b[0m \u001b[0mnp\u001b[0m\u001b[0;34m.\u001b[0m\u001b[0mempty\u001b[0m\u001b[0;34m(\u001b[0m\u001b[0;34m(\u001b[0m\u001b[0;36m0\u001b[0m\u001b[0;34m,\u001b[0m \u001b[0mself\u001b[0m\u001b[0;34m.\u001b[0m\u001b[0mfish\u001b[0m \u001b[0;34m+\u001b[0m \u001b[0mself\u001b[0m\u001b[0;34m.\u001b[0m\u001b[0mshark\u001b[0m\u001b[0;34m)\u001b[0m\u001b[0;34m)\u001b[0m\u001b[0;34m\u001b[0m\u001b[0m\n\u001b[1;32m      6\u001b[0m \u001b[0mpositions\u001b[0m \u001b[0;34m=\u001b[0m \u001b[0mnp\u001b[0m\u001b[0;34m.\u001b[0m\u001b[0marray\u001b[0m\u001b[0;34m(\u001b[0m\u001b[0mfishPositions\u001b[0m \u001b[0;34m+\u001b[0m \u001b[0msharkPositions\u001b[0m\u001b[0;34m)\u001b[0m\u001b[0;34m\u001b[0m\u001b[0m\n",
      "\u001b[0;31mNameError\u001b[0m: name 'self' is not defined"
     ]
    }
   ],
   "source": []
  },
  {
   "cell_type": "code",
   "execution_count": 98,
   "metadata": {},
   "outputs": [
    {
     "data": {
      "text/plain": [
       "array([[ 180.,  180.,  180.],\n",
       "       [ 180.,  180.,  180.]])"
      ]
     },
     "execution_count": 98,
     "metadata": {},
     "output_type": "execute_result"
    }
   ],
   "source": [
    "import numpy as np\n",
    "fish = 2\n",
    "shark = 1\n",
    "width = 40\n",
    "height = 40\n",
    "\n",
    "fishPositions = [(5, 20), (5, 20)]\n",
    "sharkPositions =  [(35, 20)]\n",
    "fishVelocities = [(-1, 0), (-1, 0)]\n",
    "\n",
    "#fishPositions = [(20, 5)]\n",
    "#sharkPositions =  [(20, 35)]\n",
    "#fishVelocities = [(0, -1)]\n",
    "\n",
    "distances = np.empty((0, fish +  shark))\n",
    "directionAngles = np.empty((0, fish + shark))\n",
    "positions = np.array(fishPositions + sharkPositions)\n",
    "\n",
    "for idx, fishPos in enumerate(fishPositions):\n",
    "    absXY = np.absolute(positions - fishPos)\n",
    "    absX = absXY[:,0]\n",
    "    absY = absXY[:,1]\n",
    "\n",
    "    diffAroundX = width - absX\n",
    "    diffAroundY = height - absY\n",
    "\n",
    "    # determine the nearest fish (also around the edges of the playing field\n",
    "    dist = np.sqrt(np.square(np.minimum(absX, diffAroundX)) + np.square(np.minimum(absY, diffAroundY)))\n",
    "    distances = np.append(distances, [dist], axis = 0)\n",
    "\n",
    "    # booleans for each fish if it is shorter to go direcly or over the edge in x- or y-direction \n",
    "    aroundX = (diffAroundX < absX)\n",
    "    aroundY = (diffAroundY < absY)\n",
    "\n",
    "    rightBelow = positions + np.transpose(np.array([width * aroundX, height * aroundY]))\n",
    "    leftTop = positions - np.transpose(np.array([width * aroundX, height * aroundY]))\n",
    "\n",
    "    dir = np.hstack((rightBelow, leftTop)).reshape(fish + shark, 2, 2)\n",
    "\n",
    "    idxsOfSmallestDistance = np.argmin(np.linalg.norm(dir - fishPos, axis = 2), axis = 1)\n",
    "    diffVectors = dir[range(len(idxsOfSmallestDistance)),idxsOfSmallestDistance,:] - fishPos\n",
    "\n",
    "    cos = np.dot(fishVelocities[idx], np.transpose(diffVectors)) \n",
    "    sin = np.cross(fishVelocities[idx], np.transpose(diffVectors), axis = 0)\n",
    "    atan2 = np.arctan2(sin, cos)\n",
    "    dirAngles = np.degrees(atan2)\n",
    "\n",
    "    directionAngles = np.append(directionAngles, [dirAngles], axis = 0)\n",
    "\n",
    "np.fill_diagonal(directionAngles, 0.0)\n",
    "directionAngles + 180."
   ]
  },
  {
   "cell_type": "code",
   "execution_count": 92,
   "metadata": {},
   "outputs": [
    {
     "data": {
      "text/plain": [
       "array([[ 5, 20],\n",
       "       [ 5, 20],\n",
       "       [35, 20]])"
      ]
     },
     "execution_count": 92,
     "metadata": {},
     "output_type": "execute_result"
    }
   ],
   "source": [
    "positions"
   ]
  },
  {
   "cell_type": "code",
   "execution_count": 93,
   "metadata": {},
   "outputs": [
    {
     "data": {
      "text/plain": [
       "array([False, False,  True], dtype=bool)"
      ]
     },
     "execution_count": 93,
     "metadata": {},
     "output_type": "execute_result"
    }
   ],
   "source": [
    "aroundX\n"
   ]
  },
  {
   "cell_type": "code",
   "execution_count": 94,
   "metadata": {},
   "outputs": [
    {
     "data": {
      "text/plain": [
       "array([[ 5, 20],\n",
       "       [ 5, 20],\n",
       "       [-5, 20]])"
      ]
     },
     "execution_count": 94,
     "metadata": {},
     "output_type": "execute_result"
    }
   ],
   "source": [
    "leftTop"
   ]
  },
  {
   "cell_type": "code",
   "execution_count": 97,
   "metadata": {},
   "outputs": [
    {
     "data": {
      "text/plain": [
       "array([[ 0,  0],\n",
       "       [ 0,  0],\n",
       "       [40,  0]])"
      ]
     },
     "execution_count": 97,
     "metadata": {},
     "output_type": "execute_result"
    }
   ],
   "source": [
    "np.transpose(np.array([width * aroundX, height * aroundY]))"
   ]
  },
  {
   "cell_type": "code",
   "execution_count": 56,
   "metadata": {},
   "outputs": [
    {
     "data": {
      "text/plain": [
       "array([ 0, 40])"
      ]
     },
     "execution_count": 56,
     "metadata": {},
     "output_type": "execute_result"
    }
   ],
   "source": [
    "width * aroundX"
   ]
  },
  {
   "cell_type": "code",
   "execution_count": 1,
   "metadata": {},
   "outputs": [
    {
     "name": "stderr",
     "output_type": "stream",
     "text": [
      "/home/hahn/anaconda2/envs/test/lib/python2.7/site-packages/sklearn/utils/__init__.py:12: RuntimeWarning: numpy.dtype size changed, may indicate binary incompatibility. Expected 96, got 88\n",
      "  from .murmurhash import murmurhash3_32\n",
      "/home/hahn/anaconda2/envs/test/lib/python2.7/site-packages/sklearn/neighbors/__init__.py:6: RuntimeWarning: numpy.dtype size changed, may indicate binary incompatibility. Expected 96, got 88\n",
      "  from .ball_tree import BallTree\n",
      "/home/hahn/anaconda2/envs/test/lib/python2.7/site-packages/sklearn/neighbors/__init__.py:7: RuntimeWarning: numpy.dtype size changed, may indicate binary incompatibility. Expected 96, got 88\n",
      "  from .kd_tree import KDTree\n",
      "/home/hahn/anaconda2/envs/test/lib/python2.7/site-packages/sklearn/utils/extmath.py:23: RuntimeWarning: numpy.dtype size changed, may indicate binary incompatibility. Expected 96, got 88\n",
      "  from ._logistic_sigmoid import _log_logistic_sigmoid\n",
      "/home/hahn/anaconda2/envs/test/lib/python2.7/site-packages/sklearn/utils/extmath.py:25: RuntimeWarning: numpy.dtype size changed, may indicate binary incompatibility. Expected 96, got 88\n",
      "  from .sparsefuncs_fast import csr_row_norms\n",
      "/home/hahn/anaconda2/envs/test/lib/python2.7/site-packages/sklearn/metrics/cluster/supervised.py:25: RuntimeWarning: numpy.dtype size changed, may indicate binary incompatibility. Expected 96, got 88\n",
      "  from .expected_mutual_info_fast import expected_mutual_information\n",
      "/home/hahn/anaconda2/envs/test/lib/python2.7/site-packages/sklearn/metrics/pairwise.py:31: RuntimeWarning: numpy.dtype size changed, may indicate binary incompatibility. Expected 96, got 88\n",
      "  from .pairwise_fast import _chi2_kernel_fast, _sparse_manhattan\n",
      "/home/hahn/anaconda2/envs/test/lib/python2.7/site-packages/sklearn/utils/random.py:10: RuntimeWarning: numpy.dtype size changed, may indicate binary incompatibility. Expected 96, got 88\n",
      "  from ._random import sample_without_replacement\n"
     ]
    }
   ],
   "source": [
    "from sklearn.neighbors import KernelDensity\n",
    "\n",
    "def kde2D(x, y, bandwidth, xbins=100j, ybins=100j, **kwargs): \n",
    "    \"\"\"Build 2D kernel density estimate (KDE).\"\"\"\n",
    "\n",
    "    # create grid of sample locations (default: 100x100)\n",
    "    xx, yy = np.mgrid[x.min():x.max():xbins, \n",
    "                      y.min():y.max():ybins]\n",
    "\n",
    "    xy_sample = np.vstack([yy.ravel(), xx.ravel()]).T\n",
    "    xy_train  = np.vstack([y, x]).T\n",
    "\n",
    "    kde_skl = KernelDensity(bandwidth=bandwidth, **kwargs)\n",
    "    kde_skl.fit(xy_train)\n",
    "\n",
    "    # score_samples() returns the log-likelihood of the samples\n",
    "    z = np.exp(kde_skl.score_samples(xy_sample))\n",
    "    return xx, yy, np.reshape(z, xx.shape)"
   ]
  },
  {
   "cell_type": "code",
   "execution_count": 15,
   "metadata": {},
   "outputs": [
    {
     "data": {
      "text/plain": [
       "<matplotlib.collections.PathCollection at 0x7f3bfe76dd10>"
      ]
     },
     "execution_count": 15,
     "metadata": {},
     "output_type": "execute_result"
    },
    {
     "data": {
      "image/png": "[encoded data removed]",
      "text/plain": [
       "<Figure size 432x288 with 1 Axes>"
      ]
     },
     "metadata": {
      "needs_background": "light"
     },
     "output_type": "display_data"
    }
   ],
   "source": [
    "import numpy as np\n",
    "import matplotlib.pyplot as plt\n",
    "\n",
    "m1 = np.array(range(1000))\n",
    "m2 = np.array(range(1000))\n",
    "\n",
    "x, y = m1 + m2, m1 - m2\n",
    "\n",
    "xx, yy, zz = kde2D(x, y, 1.0)\n",
    "\n",
    "plt.pcolormesh(xx, yy, zz)\n",
    "plt.scatter(x, y, s=2, facecolor='white')"
   ]
  },
  {
   "cell_type": "code",
   "execution_count": null,
   "metadata": {},
   "outputs": [],
   "source": []
  },
  {
   "cell_type": "code",
   "execution_count": null,
   "metadata": {},
   "outputs": [],
   "source": []
  }
 ],
 "metadata": {
  "kernelspec": {
   "display_name": "Python 2",
   "language": "python",
   "name": "python2"
  },
  "language_info": {
   "codemirror_mode": {
    "name": "ipython",
    "version": 2
   },
   "file_extension": ".py",
   "mimetype": "text/x-python",
   "name": "python",
   "nbconvert_exporter": "python",
   "pygments_lexer": "ipython2",
   "version": "2.7.15"
  }
 },
 "nbformat": 4,
 "nbformat_minor": 2
}
